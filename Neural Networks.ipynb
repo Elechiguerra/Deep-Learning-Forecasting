{
 "cells": [
  {
   "cell_type": "markdown",
   "metadata": {
    "id": "zeWeZTKxgvi7"
   },
   "source": [
    "# ROME PROJECT\n",
    "###### Daniel Elechiguerra Batlle"
   ]
  },
  {
   "cell_type": "markdown",
   "metadata": {
    "id": "1ilUoNi5gvi-"
   },
   "source": [
    "I have coded the general parameters so that only the cells that have assignments need to be changed.\n",
    "\n",
    "As for the algorithms, changing the parameters that appear at the beginning of the cell should be enough and it should run automatically without the need to change anything else. You can also optimize the hyperparameters by: **Grid Search, Random Search, Bayesian Optimization y Genetic Algorithms**.\n",
    "\n",
    "Parameters and results for **MLP, GRU, RNN y LSTM (y BI-LSTM)** are automatically logged in **\"Results1.xlsx\"** in order to being able of comparing results. **CNN** usses different hyperparameters and should be saved independently. \n",
    "Currently, I am saving (but this information could be expanded if necessary):\n",
    "\n",
    "\n",
    "> *Algorithm,\tLayers,\tNeurons per layer,\tActivation,\tOptimizer,\tLearning rate,, Horizon,\tBack steps,\tBatch size,\tEpochs,\tDataset,\tLearning MSE,\tValidation MSE,\tTraning time*\n"
   ]
  },
  {
   "cell_type": "markdown",
   "metadata": {
    "id": "YBPUPZB3gvi_"
   },
   "source": [
    "##### Load Libraries"
   ]
  },
  {
   "cell_type": "code",
   "execution_count": null,
   "metadata": {
    "id": "z-my6C-CgvjA"
   },
   "outputs": [],
   "source": [
    "import pandas as pd\n",
    "import numpy as np\n",
    "import keras\n",
    "import tensorflow as tf\n",
    "import sklearn\n",
    "import time\n",
    "import re\n",
    "import random as rn\n",
    "import json\n",
    "from joblib import Parallel, delayed\n",
    "import matplotlib.pyplot as plt\n",
    "\n",
    "from keras.models import Sequential, load_model\n",
    "from keras.layers import Dense, LSTM, GRU, SimpleRNN, Conv1D, Flatten, Dropout, MaxPooling1D, Bidirectional\n",
    "from keras.wrappers.scikit_learn import KerasRegressor\n",
    "\n",
    "\n",
    "\n",
    "from sklearn.model_selection import train_test_split, cross_val_score, KFold, GridSearchCV, RandomizedSearchCV\n",
    "from sklearn.preprocessing import StandardScaler\n",
    "from sklearn.pipeline import Pipeline\n"
   ]
  },
  {
   "cell_type": "code",
   "execution_count": null,
   "metadata": {
    "colab": {
     "base_uri": "https://localhost:8080/",
     "height": 70
    },
    "executionInfo": {
     "elapsed": 62147,
     "status": "ok",
     "timestamp": 1638211303013,
     "user": {
      "displayName": "ROME Project",
      "photoUrl": "https://lh3.googleusercontent.com/a/default-user=s64",
      "userId": "15433971874005411472"
     },
     "user_tz": 300
    },
    "id": "IM8vRwFFU61q",
    "outputId": "0d944b0d-65f7-40b4-8c3b-a02d71d4faba"
   },
   "outputs": [
    {
     "name": "stdout",
     "output_type": "stream",
     "text": [
      "Mounted at /content/drive\n",
      "/content/drive/My Drive/ROME\n"
     ]
    },
    {
     "data": {
      "application/vnd.google.colaboratory.intrinsic+json": {
       "type": "string"
      },
      "text/plain": [
       "'\\n4/0wEsu7nRb_dx7NWjv0t3zL8OqMRNzfoHu9ZKz6EXmbPwq8TQBvVIi6Y\\n'"
      ]
     },
     "execution_count": 2,
     "metadata": {},
     "output_type": "execute_result"
    }
   ],
   "source": [
    "from google.colab import drive\n",
    "drive.mount('/content/drive')\n",
    "\n",
    "# Navigate to code directory\n",
    "%cd /content/drive/My Drive/ROME\n",
    "\n",
    "\"\"\"\n",
    "4/0wEsu7nRb_dx7NWjv0t3zL8OqMRNzfoHu9ZKz6EXmbPwq8TQBvVIi6Y\n",
    "\"\"\""
   ]
  },
  {
   "cell_type": "markdown",
   "metadata": {
    "id": "RRzc0bMTgvjE"
   },
   "source": [
    "##### Select working dataset"
   ]
  },
  {
   "cell_type": "code",
   "execution_count": null,
   "metadata": {
    "id": "DhBgFltTgvjE"
   },
   "outputs": [],
   "source": [
    "dataset = '1h' # Choose 15min (more samples) or 1h (less samples)"
   ]
  },
  {
   "cell_type": "markdown",
   "metadata": {
    "id": "aCt1MLwNgvjI"
   },
   "source": [
    "##### Aux Functions (No debería hacer falta modificar nada aquí)"
   ]
  },
  {
   "cell_type": "code",
   "execution_count": null,
   "metadata": {
    "id": "eG9GLoqggvjJ"
   },
   "outputs": [],
   "source": [
    "# This function transforms the input set into 2D/3D inputs\n",
    "# 3D: (samples, back_steps, features)\n",
    "# 2D: (samples, back_steps*features)\n",
    "\n",
    "def create_dataset(old_x, old_y, back_steps = 1, horizon = 1, task = '3d'):\n",
    "    \n",
    "    new_x, new_y = pd.DataFrame(), pd.DataFrame()\n",
    "    for i in range(1, back_steps + 1):\n",
    "        columns = []\n",
    "        for column in list(old_x.columns):\n",
    "            columns.append(column + ' - ' + str(i))\n",
    "        new_x[columns] = old_x.shift(i)\n",
    "        new_x['y - ' + str(i)] = old_y.shift(i)\n",
    "    new_x = new_x[back_steps + horizon - 1:].reset_index(drop = True)\n",
    "    new_y = old_y[back_steps + horizon - 1:].reset_index(drop = True)\n",
    "    if task == '3d':\n",
    "        return np.array(new_x).reshape((np.array(new_x).shape[0], back_steps, int(np.array(new_x).shape[1]/back_steps))), np.array(new_y)\n",
    "    elif task == '2d':\n",
    "        return new_x, new_y\n",
    "    \n",
    "    return"
   ]
  },
  {
   "cell_type": "code",
   "execution_count": null,
   "metadata": {
    "id": "PktPuCoYgvjM"
   },
   "outputs": [],
   "source": [
    "# Load data (careful with the loading if next function is moved to a different script)\n",
    "\n",
    "data = pd.read_csv('TTOTdataEEM17v3.csv', index_col = 0).reset_index(drop = True)\n",
    "data['Date'] = pd.to_datetime(data['Date'])\n",
    "\n",
    "if dataset == '15min': \n",
    "    data.drop(['Date', 'Hour', 'Min'], axis = 1, inplace = True)\n",
    "    x = data.iloc[:,:-1]\n",
    "    x = x[x.columns[1::3]]\n",
    "    y = pd.DataFrame(data.iloc[:,-1])\n",
    "else: \n",
    "    data_hour = data.groupby(by = ['Date', 'Hour']).mean()\n",
    "    data_hour = data_hour.reset_index(drop = True)\n",
    "    x = data_hour.iloc[:,:-1]\n",
    "    x = x[x.columns[1::3]]\n",
    "    y = pd.DataFrame(data_hour.iloc[:,-1])\n",
    "    \n",
    "def prepare_data(task = '3d', back_steps = 1, horizon = 1, test_size = 0.2, shuffle = False):\n",
    "\n",
    "    # Train / Test\n",
    "    if shuffle:\n",
    "        x_train, x_test, y_train, y_test = train_test_split(x, y, test_size = test_size, random_state = 42)\n",
    "    else:\n",
    "        x_train = x.iloc[:int((1 - test_size)*len(x)),:]\n",
    "        x_test = x.iloc[int((1 - test_size)*len(x)):,:]\n",
    "        y_train = y.iloc[:int((1 - test_size)*len(y)),:]\n",
    "        y_test = y.iloc[int((1 - test_size)*len(y)):,:].reset_index(drop = True)\n",
    "\n",
    "    # Scale input\n",
    "    scaler = StandardScaler()\n",
    "    x_train = pd.DataFrame(scaler.fit_transform(x_train), columns = x_train.columns)\n",
    "    x_test = pd.DataFrame(scaler.transform(x_test), columns = x_test.columns)\n",
    "    \n",
    "    # Scale output\n",
    "    \n",
    "    # Create dataset\n",
    "    if task == '3d':\n",
    "        x_train, y_train = create_dataset(x_train, y_train, back_steps, horizon, '3d')\n",
    "        x_test, y_test = create_dataset(x_test, y_test, back_steps, horizon, '3d')\n",
    "    elif task == '2d':\n",
    "        x_train, y_train = create_dataset(x_train, y_train, back_steps, horizon, '2d')\n",
    "        x_test, y_test = create_dataset(x_test, y_test, back_steps, horizon, '2d')\n",
    "    \n",
    "    return x_train, y_train, x_test, y_test"
   ]
  },
  {
   "cell_type": "code",
   "execution_count": null,
   "metadata": {
    "id": "sI_NEhrDTO5r"
   },
   "outputs": [],
   "source": [
    "seed = 1234\n",
    "\n",
    "def set_seed(seed = seed):\n",
    "    \n",
    "    import os\n",
    "    import tensorflow as tf\n",
    "\n",
    "    os.environ['PYTHONHASHSEED'] = '0'\n",
    "    np.random.seed(seed)\n",
    "    rn.seed(seed)\n",
    "    session_conf = tf.compat.v1.ConfigProto(intra_op_parallelism_threads=1, inter_op_parallelism_threads=1)\n",
    "\n",
    "    tf.random.set_seed(1234)\n",
    "    sess = tf.compat.v1.Session(graph=tf.compat.v1.get_default_graph(), config=session_conf)\n",
    "    tf.compat.v1.keras.backend.set_session(sess)"
   ]
  },
  {
   "cell_type": "markdown",
   "metadata": {
    "id": "M3BRnBQhgvjP"
   },
   "source": [
    "### Deep Learning Models"
   ]
  },
  {
   "cell_type": "markdown",
   "metadata": {
    "id": "jNDPLM5ngvjR"
   },
   "source": [
    "###### Select General Parameters "
   ]
  },
  {
   "cell_type": "code",
   "execution_count": null,
   "metadata": {
    "id": "d1aTFq2sgvjT"
   },
   "outputs": [],
   "source": [
    "# General Parameters\n",
    "back_steps = 10\n",
    "horizon = 1"
   ]
  },
  {
   "cell_type": "markdown",
   "metadata": {
    "id": "2Lqc6MMagvjZ"
   },
   "source": [
    "##### Benchmark MSE"
   ]
  },
  {
   "cell_type": "code",
   "execution_count": null,
   "metadata": {
    "colab": {
     "base_uri": "https://localhost:8080/"
    },
    "executionInfo": {
     "elapsed": 665,
     "status": "ok",
     "timestamp": 1638211338168,
     "user": {
      "displayName": "ROME Project",
      "photoUrl": "https://lh3.googleusercontent.com/a/default-user=s64",
      "userId": "15433971874005411472"
     },
     "user_tz": 300
    },
    "id": "bdUCV3jygvja",
    "outputId": "56c585fd-872b-48c9-c921-51b083bc622a"
   },
   "outputs": [
    {
     "name": "stdout",
     "output_type": "stream",
     "text": [
      "Benchmark MSE: 272.83736866408935\n"
     ]
    }
   ],
   "source": [
    "# Error of predicting the same output as the last interval value can be used as benchmark\n",
    "\n",
    "x_train, y_train, x_test, y_test = prepare_data(task = '2d', back_steps = back_steps, horizon = horizon)\n",
    "mse_benchmark = sklearn.metrics.mean_squared_error(y_test[horizon:], y_test[:y_test.shape[0] - horizon])\n",
    "print('Benchmark MSE:', mse_benchmark)"
   ]
  },
  {
   "cell_type": "markdown",
   "metadata": {
    "id": "rI6sq4jhgvjf"
   },
   "source": [
    "##### MLP "
   ]
  },
  {
   "cell_type": "code",
   "execution_count": null,
   "metadata": {
    "colab": {
     "base_uri": "https://localhost:8080/",
     "height": 35
    },
    "executionInfo": {
     "elapsed": 8026,
     "status": "ok",
     "timestamp": 1590158572104,
     "user": {
      "displayName": "ROME Project",
      "photoUrl": "",
      "userId": "15433971874005411472"
     },
     "user_tz": -120
    },
    "id": "ObYso30ugvjf",
    "outputId": "65ca4a23-154d-4519-d2b9-c67d81cfe568",
    "scrolled": true
   },
   "outputs": [
    {
     "name": "stdout",
     "output_type": "stream",
     "text": [
      "MLP MSE: 260.54733222449914\n"
     ]
    }
   ],
   "source": [
    "set_seed()\n",
    "\n",
    "# Network parameters\n",
    "neurons_per_layer = [32, 32]\n",
    "epochs = 30\n",
    "batch_size = 50\n",
    "learning_rate = 0.0005\n",
    "opt = keras.optimizers.Adam(lr = learning_rate) #Se puede cambiar Adam por cualquier otro\n",
    "act = 'relu'\n",
    "verbose = 0\n",
    "\n",
    "\n",
    "\n",
    "# Prepare data\n",
    "x_train, y_train, x_test, y_test = prepare_data(task = '2d', back_steps = back_steps, horizon = horizon, activation = act)\n",
    "\n",
    "# Create an empty model\n",
    "model = Sequential()\n",
    "\n",
    "# Add layers\n",
    "model.add(Dense(neurons_per_layer[0], input_dim = x_train.shape[1]))\n",
    "for neurons in neurons_per_layer[1:]:\n",
    "    model.add(Dense(neurons, activation = act))\n",
    "model.add(Dense(1))\n",
    "\n",
    "# Compile model\n",
    "model.compile(loss='mean_squared_error', optimizer = opt)\n",
    "\n",
    "# Fit model on the dataset\n",
    "start_time = time.time()\n",
    "history = model.fit(x_train, y_train, epochs = epochs, batch_size = batch_size, validation_data = None, verbose = verbose, shuffle = False)\n",
    "training_time = time.time() - start_time\n",
    "\n",
    "# Evaluate model\n",
    "y_pred = model.predict(x_test)\n",
    "mlp_mse = sklearn.metrics.mean_squared_error(y_test, y_pred)\n",
    "print('MLP MSE:', mlp_mse)\n",
    "\n",
    "# Save results\n",
    "results = pd.read_excel('Results.xlsx')\n",
    "results.loc[len(results)] = ['mlp', len(neurons_per_layer), neurons_per_layer[0], act, str(opt)[18:re.search(r'\\b(object)\\b', str(opt)).start()-1].lower(), learning_rate, horizon, back_steps, batch_size, epochs, dataset, history.history['loss'][-1], mlp_mse, training_time]\n",
    "results.to_excel('Results.xlsx', index = False)"
   ]
  },
  {
   "cell_type": "markdown",
   "metadata": {
    "id": "loOlIB6LIWBC"
   },
   "source": [
    "#### GRU"
   ]
  },
  {
   "cell_type": "code",
   "execution_count": null,
   "metadata": {
    "colab": {
     "base_uri": "https://localhost:8080/"
    },
    "executionInfo": {
     "elapsed": 65290,
     "status": "ok",
     "timestamp": 1590158630054,
     "user": {
      "displayName": "ROME Project",
      "photoUrl": "",
      "userId": "15433971874005411472"
     },
     "user_tz": -120
    },
    "id": "-hTrD-YT_-HV",
    "outputId": "1e56810c-5c07-4d2b-9cc2-3d432216c03e"
   },
   "outputs": [
    {
     "name": "stdout",
     "output_type": "stream",
     "text": [
      "GRU MSE: 297.2388861765779\n"
     ]
    }
   ],
   "source": [
    "set_seed()\n",
    "\n",
    "# Network parameters\n",
    "neurons_per_layer = [20, 20, 20] \n",
    "epochs = 20\n",
    "batch_size = 20\n",
    "learning_rate = 0.0005\n",
    "opt = keras.optimizers.Adam(lr = learning_rate) #Se puede cambiar Adam por cualquier otro\n",
    "act = 'relu'\n",
    "verbose = 0\n",
    "\n",
    "# Prepare data\n",
    "x_train, y_train, x_test, y_test = prepare_data(task = '3d', back_steps = back_steps, horizon = horizon)\n",
    "\n",
    "# Create an empty model\n",
    "model = Sequential()\n",
    "\n",
    "# Add layers\n",
    "if len(neurons_per_layer) == 1:\n",
    "    model.add(GRU(neurons_per_layer[0], input_shape = (x_train.shape[1], x_train.shape[2]), return_sequences = False, activation = act))\n",
    "else:\n",
    "    model.add(GRU(neurons_per_layer[0], input_shape = (x_train.shape[1], x_train.shape[2]), return_sequences = True, activation = act))\n",
    "    for neurons in neurons_per_layer[1:-1]:\n",
    "        model.add(GRU(neurons, return_sequences = True, activation = act))\n",
    "    model.add(GRU(neurons_per_layer[-1], return_sequences = False, activation = act))\n",
    "model.add(Dense(1))\n",
    "\n",
    "# Compile model\n",
    "model.compile(loss = 'mean_squared_error', optimizer = opt)\n",
    "\n",
    "# Fit model on the dataset\n",
    "start_time = time.time()\n",
    "history = model.fit(x_train, y_train, epochs = epochs, batch_size = batch_size, validation_data = None, verbose = verbose, shuffle = False)\n",
    "training_time = time.time() - start_time\n",
    "\n",
    "# Evaluate model\n",
    "y_pred = model.predict(x_test)\n",
    "gru_mse = sklearn.metrics.mean_squared_error(y_test, y_pred)\n",
    "print('GRU MSE:', gru_mse)\n",
    "\n",
    "# Save results\n",
    "results = pd.read_excel('Results.xlsx')\n",
    "results.loc[len(results)] = ['gru', len(neurons_per_layer), neurons_per_layer[0], act, str(opt)[18:re.search(r'\\b(object)\\b', str(opt)).start()-1].lower(), learning_rate, horizon, back_steps, batch_size, epochs, dataset, history.history['loss'][-1], gru_mse, training_time]\n",
    "results.to_excel('Results.xlsx', index = False)"
   ]
  },
  {
   "cell_type": "markdown",
   "metadata": {
    "id": "Yskv-pBwB1c0"
   },
   "source": [
    "#### LSTM"
   ]
  },
  {
   "cell_type": "code",
   "execution_count": null,
   "metadata": {
    "colab": {
     "base_uri": "https://localhost:8080/"
    },
    "executionInfo": {
     "elapsed": 192526,
     "status": "ok",
     "timestamp": 1590158757782,
     "user": {
      "displayName": "ROME Project",
      "photoUrl": "",
      "userId": "15433971874005411472"
     },
     "user_tz": -120
    },
    "id": "lZp3ouingvjk",
    "outputId": "714d5a73-a48f-45c7-cdcf-a1749fcff095",
    "scrolled": true
   },
   "outputs": [
    {
     "name": "stdout",
     "output_type": "stream",
     "text": [
      "LSTM MSE: 337.25699268763856\n"
     ]
    }
   ],
   "source": [
    "set_seed()\n",
    "\n",
    "# Network parameters\n",
    "neurons_per_layer = [20, 20, 20, 20] #[20,20,20,20], batch 20 y adam daba buenos resultados para el dataset corto\n",
    "epochs = 20\n",
    "batch_size = 20\n",
    "learning_rate = 0.0005\n",
    "opt = keras.optimizers.Adam(lr = learning_rate) #Se puede cambiar Adam por cualquier otro\n",
    "act = 'elu'\n",
    "verbose = 0\n",
    "\n",
    "\n",
    "\n",
    "# Prepare data\n",
    "x_train, y_train, x_test, y_test = prepare_data(task = '3d', back_steps = back_steps, horizon = horizon)\n",
    "\n",
    "# Create an empty model\n",
    "model = Sequential()\n",
    "\n",
    "# Add layers\n",
    "if len(neurons_per_layer) == 1:\n",
    "    model.add(LSTM(neurons_per_layer[0], input_shape = (x_train.shape[1], x_train.shape[2]), return_sequences = False, activation = act))\n",
    "else:\n",
    "    model.add(LSTM(neurons_per_layer[0], input_shape = (x_train.shape[1], x_train.shape[2]), return_sequences = True, activation = act))\n",
    "    for neurons in neurons_per_layer[1:-1]:\n",
    "        model.add(LSTM(neurons, return_sequences = True, activation = act))\n",
    "    model.add(LSTM(neurons_per_layer[-1], return_sequences = False, activation = act))\n",
    "model.add(Dense(1))\n",
    "\n",
    "# Compile model\n",
    "model.compile(loss = 'mean_squared_error', optimizer = opt)\n",
    "\n",
    "# Fit model on the dataset\n",
    "start_time = time.time()\n",
    "history = model.fit(x_train, y_train, epochs = epochs, batch_size = batch_size, validation_data = None, verbose = verbose, shuffle = False)\n",
    "training_time = time.time() - start_time\n",
    "\n",
    "# Evaluate model\n",
    "y_pred = model.predict(x_test)\n",
    "lstm_mse = sklearn.metrics.mean_squared_error(y_test, y_pred)\n",
    "print('LSTM MSE:', lstm_mse)\n",
    "\n",
    "# Save results\n",
    "results = pd.read_excel('Results.xlsx')\n",
    "results.loc[len(results)] = ['lstm', len(neurons_per_layer), neurons_per_layer[0], act, str(opt)[18:re.search(r'\\b(object)\\b', str(opt)).start()-1].lower(), learning_rate, horizon, back_steps, batch_size, epochs, dataset, history.history['loss'][-1], lstm_mse, training_time]\n",
    "results.to_excel('Results.xlsx', index = False)"
   ]
  },
  {
   "cell_type": "markdown",
   "metadata": {
    "id": "sSeZv_SPJnKe"
   },
   "source": [
    "#### Bidirectional LSTM"
   ]
  },
  {
   "cell_type": "code",
   "execution_count": null,
   "metadata": {
    "colab": {
     "base_uri": "https://localhost:8080/"
    },
    "executionInfo": {
     "elapsed": 571,
     "status": "ok",
     "timestamp": 1590165340693,
     "user": {
      "displayName": "ROME Project",
      "photoUrl": "",
      "userId": "15433971874005411472"
     },
     "user_tz": -120
    },
    "id": "gO3UQpVcOb08",
    "outputId": "58362ff8-f53d-47fa-9d29-73d8df7406aa"
   },
   "outputs": [
    {
     "name": "stdout",
     "output_type": "stream",
     "text": [
      "Bidirectional LSTM MSE: 307.5186695196177\n"
     ]
    }
   ],
   "source": [
    "set_seed()\n",
    "\n",
    "# Network parameters\n",
    "neurons_per_layer = [20, 20, 20] #Usa las mismas neuronas en un sentido y en otro, pero se podría cambiar\n",
    "epochs = 10\n",
    "batch_size = 20\n",
    "learning_rate = 0.002\n",
    "opt = keras.optimizers.Adam(lr = learning_rate) #Se puede cambiar Adam por cualquier otro\n",
    "act = 'elu'\n",
    "verbose = 0\n",
    "\n",
    "\n",
    "\n",
    "# Prepare data\n",
    "x_train, y_train, x_test, y_test = prepare_data(task = '3d', back_steps = back_steps, horizon = horizon)\n",
    "\n",
    "# Create an empty model\n",
    "model = Sequential()\n",
    "\n",
    "# Add layers\n",
    "if len(neurons_per_layer) == 1:\n",
    "    model.add(Bidirectional(LSTM(neurons_per_layer[0], input_shape = (x_train.shape[1], x_train.shape[2]), return_sequences = False, activation = act)))\n",
    "else:\n",
    "    model.add(Bidirectional(LSTM(neurons_per_layer[0], input_shape = (x_train.shape[1], x_train.shape[2]), return_sequences = True, activation = act)))\n",
    "    for neurons in neurons_per_layer[1:-1]:\n",
    "        model.add(Bidirectional(LSTM(neurons, return_sequences = True, activation = act)))\n",
    "    model.add(Bidirectional(LSTM(neurons_per_layer[-1], return_sequences = False, activation = act)))\n",
    "model.add(Dense(1))\n",
    "\n",
    "# Compile model\n",
    "model.compile(loss = 'mean_squared_error', optimizer = opt)\n",
    "\n",
    "# Fit model on the dataset\n",
    "start_time = time.time()\n",
    "history = model.fit(x_train, y_train, epochs = epochs, batch_size = batch_size, validation_data = None, verbose = verbose, shuffle = False)\n",
    "training_time = time.time() - start_time\n",
    "\n",
    "# Evaluate model\n",
    "y_pred = model.predict(x_test)\n",
    "bilstm_mse = sklearn.metrics.mean_squared_error(y_test, y_pred)\n",
    "print('Bidirectional LSTM MSE:', bilstm_mse)\n",
    "\n",
    "# Save results\n",
    "results = pd.read_excel('Results.xlsx')\n",
    "results.loc[len(results)] = ['bilstm', len(neurons_per_layer), neurons_per_layer[0], act, str(opt)[18:re.search(r'\\b(object)\\b', str(opt)).start()-1].lower(), learning_rate, horizon, back_steps, batch_size, epochs, dataset, history.history['loss'][-1], bilstm_mse, training_time]\n",
    "results.to_excel('Results.xlsx', index = False)"
   ]
  },
  {
   "cell_type": "markdown",
   "metadata": {
    "id": "Ks-sI8kaIf09"
   },
   "source": [
    "#### RNN"
   ]
  },
  {
   "cell_type": "code",
   "execution_count": null,
   "metadata": {
    "colab": {
     "base_uri": "https://localhost:8080/"
    },
    "executionInfo": {
     "elapsed": 219942,
     "status": "ok",
     "timestamp": 1590158786483,
     "user": {
      "displayName": "ROME Project",
      "photoUrl": "",
      "userId": "15433971874005411472"
     },
     "user_tz": -120
    },
    "id": "RkP-IYjRkuBU",
    "outputId": "c7b68350-24da-4e42-f37a-e34fa99bc3b4"
   },
   "outputs": [
    {
     "name": "stdout",
     "output_type": "stream",
     "text": [
      "RNN MSE: 193.3218933236604\n"
     ]
    }
   ],
   "source": [
    "set_seed()\n",
    "\n",
    "# Network parameters\n",
    "neurons_per_layer = [20, 20, 20, 20]\n",
    "epochs = 10\n",
    "batch_size = 20\n",
    "learning_rate = 0.00025\n",
    "opt = keras.optimizers.Adam(lr = learning_rate) #Se puede cambiar Adam por cualquier otro\n",
    "act = 'relu'\n",
    "verbose = 0\n",
    "\n",
    "\n",
    "\n",
    "# Prepare data\n",
    "x_train, y_train, x_test, y_test = prepare_data(task = '3d', back_steps = back_steps, horizon = horizon)\n",
    "\n",
    "# Create an empty model\n",
    "model = Sequential()\n",
    "\n",
    "# Add layers\n",
    "if len(neurons_per_layer) == 1:\n",
    "    model.add(SimpleRNN(neurons_per_layer[0], input_shape = (x_train.shape[1], x_train.shape[2]), return_sequences = False, activation = act))\n",
    "else:\n",
    "    model.add(SimpleRNN(neurons_per_layer[0], input_shape = (x_train.shape[1], x_train.shape[2]), return_sequences = True, activation = act))\n",
    "    for neurons in neurons_per_layer[1:-1]:\n",
    "        model.add(SimpleRNN(neurons, return_sequences = True, activation = act))\n",
    "    model.add(SimpleRNN(neurons_per_layer[-1], return_sequences = False, activation = act))\n",
    "model.add(Dense(1))\n",
    "\n",
    "# Compile model\n",
    "model.compile(loss = 'mean_squared_error', optimizer = opt)\n",
    "\n",
    "# Fit model on the dataset\n",
    "start_time = time.time()\n",
    "history = model.fit(x_train, y_train, epochs = epochs, batch_size = batch_size, validation_data = None, verbose = verbose, shuffle = False)\n",
    "training_time = time.time() - start_time\n",
    "\n",
    "# Evaluate model\n",
    "y_pred = model.predict(x_test)\n",
    "rnn_mse = sklearn.metrics.mean_squared_error(y_test, y_pred)\n",
    "print('RNN MSE:', rnn_mse)\n",
    "\n",
    "# Save results\n",
    "results = pd.read_excel('Results.xlsx')\n",
    "results.loc[len(results)] = ['rnn', len(neurons_per_layer), neurons_per_layer[0], act, str(opt)[18:re.search(r'\\b(object)\\b', str(opt)).start()-1].lower(), learning_rate, horizon, back_steps, batch_size, epochs, dataset, history.history['loss'][-1], rnn_mse, training_time]\n",
    "results.to_excel('Results.xlsx', index = False)"
   ]
  },
  {
   "cell_type": "markdown",
   "metadata": {
    "id": "YqlhcSe6gvjp"
   },
   "source": [
    "#### Convolutional 1D"
   ]
  },
  {
   "cell_type": "code",
   "execution_count": null,
   "metadata": {
    "colab": {
     "base_uri": "https://localhost:8080/",
     "height": 379
    },
    "executionInfo": {
     "elapsed": 9542,
     "status": "ok",
     "timestamp": 1588783727219,
     "user": {
      "displayName": "ROME Project",
      "photoUrl": "",
      "userId": "15433971874005411472"
     },
     "user_tz": -120
    },
    "id": "7L7D8Dlvgvjq",
    "outputId": "8ba3d3c2-ad1a-47ea-960b-fbba61ca748d"
   },
   "outputs": [
    {
     "name": "stdout",
     "output_type": "stream",
     "text": [
      "Train on 7022 samples, validate on 1752 samples\n",
      "Epoch 1/10\n",
      "7022/7022 [==============================] - 1s 122us/step - loss: 1093.9076 - val_loss: 681.1134\n",
      "Epoch 2/10\n",
      "7022/7022 [==============================] - 1s 98us/step - loss: 384.5637 - val_loss: 533.4707\n",
      "Epoch 3/10\n",
      "7022/7022 [==============================] - 1s 98us/step - loss: 290.1146 - val_loss: 413.9079\n",
      "Epoch 4/10\n",
      "7022/7022 [==============================] - 1s 97us/step - loss: 225.0589 - val_loss: 338.0838\n",
      "Epoch 5/10\n",
      "7022/7022 [==============================] - 1s 94us/step - loss: 196.8618 - val_loss: 288.7762\n",
      "Epoch 6/10\n",
      "7022/7022 [==============================] - 1s 97us/step - loss: 174.8544 - val_loss: 260.0953\n",
      "Epoch 7/10\n",
      "7022/7022 [==============================] - 1s 96us/step - loss: 165.7632 - val_loss: 243.7285\n",
      "Epoch 8/10\n",
      "7022/7022 [==============================] - 1s 94us/step - loss: 154.3409 - val_loss: 246.2355\n",
      "Epoch 9/10\n",
      "7022/7022 [==============================] - 1s 98us/step - loss: 151.6481 - val_loss: 233.0112\n",
      "Epoch 10/10\n",
      "7022/7022 [==============================] - 1s 99us/step - loss: 148.0905 - val_loss: 229.7164\n",
      "CNN 1D MSE: 229.71638045797897\n"
     ]
    }
   ],
   "source": [
    "set_seed()\n",
    "\n",
    "# Network parameters\n",
    "filters_per_layer = [64,32]\n",
    "neurons_per_layer = [64,32]\n",
    "epochs = 10\n",
    "batch_size = 20\n",
    "opt = keras.optimizers.Adam(lr = 0.0001) #Se puede cambiar Adam por cualquier otro\n",
    "act = 'relu'\n",
    "kernel_size = 3\n",
    "dropout = 0\n",
    "pool_size = 1\n",
    "verbose = 0\n",
    "\n",
    "\n",
    "\n",
    "# Prepare data\n",
    "x_train, y_train, x_test, y_test = prepare_data(task = '3d', back_steps = back_steps, horizon = horizon)\n",
    "\n",
    "# Create an empty model\n",
    "model = Sequential()\n",
    "\n",
    "# Add layers\n",
    "model.add(Conv1D(filters = filters_per_layer[0], input_shape = (x_train.shape[1],x_train.shape[2]), kernel_size = kernel_size, activation = act))\n",
    "for filters in filters_per_layer[1:]:\n",
    "    model.add(Conv1D(filters = filters, kernel_size = kernel_size, activation = act))\n",
    "model.add(Dropout(dropout))\n",
    "model.add(MaxPooling1D(pool_size = pool_size))\n",
    "model.add(Flatten())\n",
    "for neurons in neurons_per_layer:\n",
    "    model.add(Dense(neurons, activation = act))\n",
    "model.add(Dense(1))\n",
    "\n",
    "# Compile model\n",
    "model.compile(loss='mean_squared_error', optimizer = opt)\n",
    "\n",
    "# Fit model on the dataset\n",
    "history = model.fit(x_train, y_train, epochs = epochs, batch_size = batch_size, validation_data = (x_test, y_test), verbose = verbose, shuffle = False)\n",
    "\n",
    "# Evaluate model\n",
    "y_pred = model.predict(x_test)\n",
    "conv1d_mse = sklearn.metrics.mean_squared_error(y_test, y_pred)\n",
    "print('CNN 1D MSE:', conv1d_mse)"
   ]
  },
  {
   "cell_type": "markdown",
   "metadata": {
    "id": "OJGFfktJgvjs"
   },
   "source": [
    "### Analyze results"
   ]
  },
  {
   "cell_type": "code",
   "execution_count": null,
   "metadata": {
    "colab": {
     "base_uri": "https://localhost:8080/",
     "height": 1000
    },
    "executionInfo": {
     "elapsed": 1527,
     "status": "ok",
     "timestamp": 1588778388229,
     "user": {
      "displayName": "ROME Project",
      "photoUrl": "",
      "userId": "15433971874005411472"
     },
     "user_tz": -120
    },
    "id": "pXCFWeaCgvjt",
    "outputId": "15406411-1149-44f6-fa7a-05b2ead7b2f2"
   },
   "outputs": [
    {
     "data": {
      "image/png": "[encoded data removed]",
      "text/plain": [
       "<Figure size 720x432 with 1 Axes>"
      ]
     },
     "metadata": {
      "needs_background": "light",
      "tags": []
     },
     "output_type": "display_data"
    },
    {
     "data": {
      "image/png": "[encoded data removed]",
      "text/plain": [
       "<Figure size 720x432 with 1 Axes>"
      ]
     },
     "metadata": {
      "needs_background": "light",
      "tags": []
     },
     "output_type": "display_data"
    },
    {
     "data": {
      "image/png": "[encoded data removed]",
      "text/plain": [
       "<Figure size 720x432 with 1 Axes>"
      ]
     },
     "metadata": {
      "needs_background": "light",
      "tags": []
     },
     "output_type": "display_data"
    }
   ],
   "source": [
    "plt.figure(figsize = (10,6))\n",
    "plt.title('Error evolution during training')\n",
    "plt.plot(history.history['loss'], label = 'train')\n",
    "plt.plot(history.history['val_loss'], label = 'test')\n",
    "plt.plot(np.ones(epochs) * mse_benchmark, label = 'benchmark', c = '#18a821')\n",
    "plt.legend()\n",
    "plt.show()\n",
    "\n",
    "first = 100\n",
    "last = 150\n",
    "\n",
    "plt.figure(figsize = (10,6))\n",
    "plt.plot(y_pred[first:last+1], label = 'pred', c = '#db272a', lw = 1)\n",
    "plt.title('Prediction example')\n",
    "plt.plot(np.array(y_test)[first:last+1], label = 'true', c = '#18a821', lw = 1)\n",
    "plt.plot(np.concatenate(([[None]]*horizon, y_test[:y_test.shape[0] - horizon]))[first:last+1], label = 'benchmark', c = '#198de6', lw = 1)\n",
    "plt.legend()\n",
    "plt.show()\n",
    "\n",
    "plt.figure(figsize = (10,6))\n",
    "plt.title('Prediction error example')\n",
    "plt.plot(np.zeros(last-first+1), label = 'true', c = '#18a821')\n",
    "plt.plot(y_pred[first:last+1]-np.array(y_test)[first:last+1], label = 'pred', c = '#db272a', lw = 1)\n",
    "plt.plot(np.concatenate(([[None]]*horizon, y_test[:y_test.shape[0] - horizon]))[first:last+1]-np.array(y_test)[first:last+1], label = 'benchmark', c = '#198de6', lw = 1)\n",
    "plt.legend()\n",
    "plt.show()"
   ]
  },
  {
   "cell_type": "code",
   "execution_count": null,
   "metadata": {
    "id": "25Ek6OO-ZXOl"
   },
   "outputs": [],
   "source": []
  },
  {
   "cell_type": "code",
   "execution_count": null,
   "metadata": {
    "id": "XZ92sk_agzEh"
   },
   "outputs": [],
   "source": []
  },
  {
   "cell_type": "markdown",
   "metadata": {
    "id": "CK2RZnIX9vG2"
   },
   "source": [
    "### Hyperparameter Optimization\n",
    "##### Es necesario correr la celda de \"Define Models\" para cualquier optimización porque ahí se define la arquitectura de la red"
   ]
  },
  {
   "cell_type": "markdown",
   "metadata": {
    "id": "TQthHJEk95gl"
   },
   "source": [
    "#### Define Models"
   ]
  },
  {
   "cell_type": "markdown",
   "metadata": {
    "id": "4J_epPvGLkVt"
   },
   "source": [
    "##### MLP, GRU, RNN, LSTM, BI LSTM"
   ]
  },
  {
   "cell_type": "code",
   "execution_count": null,
   "metadata": {
    "id": "59Kx1sVZrP7u"
   },
   "outputs": [],
   "source": [
    "def create_model(algorithm, activation, optimizer, learning_rate, layers, neurons_per_layer, shape):\n",
    "\n",
    "    # Layer hyperparameters and number of layers  \n",
    "    neurons_per_layer = [int(neurons_per_layer)]*int(layers)  \n",
    "\n",
    "    # Optimizer\n",
    "    if optimizer == 'adam':\n",
    "      opt = keras.optimizers.Adam(lr = learning_rate)\n",
    "    elif optimizer == 'nadam':\n",
    "      opt = keras.optimizers.Nadam(lr = learning_rate)\n",
    "    elif optimizer == 'adadelta':\n",
    "      opt = keras.optimizers.Adadelta(lr = learning_rate)\n",
    "    elif optimizer == 'adagrad':\n",
    "      opt = keras.optimizers.Adagrad(lr = learning_rate)\n",
    "    elif optimizer == 'rmsprop':\n",
    "      opt = keras.optimizers.RMSprop(lr = learning_rate)\n",
    "\n",
    "    ## MODEL\n",
    "    model = Sequential()\n",
    "\n",
    "    if algorithm == 'mlp':\n",
    "      # Add layers\n",
    "      model.add(Dense(neurons_per_layer[0], input_dim = shape[1], activation = activation)) \n",
    "      for neurons in neurons_per_layer[1:]:\n",
    "          model.add(Dense(neurons, activation = activation))\n",
    "      model.add(Dense(1))\n",
    "\n",
    "    elif algorithm == 'rnn':\n",
    "      # Add layers\n",
    "      if len(neurons_per_layer) == 1:\n",
    "          model.add(SimpleRNN(neurons_per_layer[0], input_shape = (shape[1], shape[2]), return_sequences = False, activation = activation))\n",
    "      else:\n",
    "          model.add(SimpleRNN(neurons_per_layer[0], input_shape = (shape[1], shape[2]), return_sequences = True, activation = activation))\n",
    "          for neurons in neurons_per_layer[1:-1]:\n",
    "              model.add(SimpleRNN(neurons, return_sequences = True, activation = activation))\n",
    "          model.add(SimpleRNN(neurons_per_layer[-1], return_sequences = False, activation = activation))\n",
    "      model.add(Dense(1))\n",
    "\n",
    "    elif algorithm == 'gru':\n",
    "      # Add layers\n",
    "      if len(neurons_per_layer) == 1:\n",
    "          model.add(GRU(neurons_per_layer[0], input_shape = (shape[1], shape[2]), return_sequences = False, activation = activation))\n",
    "      else:\n",
    "          model.add(GRU(neurons_per_layer[0], input_shape = (shape[1], shape[2]), return_sequences = True, activation = activation))\n",
    "          for neurons in neurons_per_layer[1:-1]:\n",
    "              model.add(GRU(neurons, return_sequences = True, activation = activation))\n",
    "          model.add(GRU(neurons_per_layer[-1], return_sequences = False, activation = activation))\n",
    "      model.add(Dense(1))\n",
    "\n",
    "    elif algorithm == 'lstm':\n",
    "      # Add layers\n",
    "      if len(neurons_per_layer) == 1:\n",
    "          model.add(LSTM(neurons_per_layer[0], input_shape = (shape[1], shape[2]), return_sequences = False, activation = activation))\n",
    "      else:\n",
    "          model.add(LSTM(neurons_per_layer[0], input_shape = (shape[1], shape[2]), return_sequences = True, activation = activation))\n",
    "          for neurons in neurons_per_layer[1:-1]:\n",
    "              model.add(LSTM(neurons, return_sequences = True, activation = activation))\n",
    "          model.add(LSTM(neurons_per_layer[-1], return_sequences = False, activation = activation))\n",
    "      model.add(Dense(1))\n",
    "\n",
    "    elif algorithm == 'bilstm':\n",
    "      # Add layers\n",
    "      if len(neurons_per_layer) == 1:\n",
    "          model.add(Bidirectional(LSTM(neurons_per_layer[0], input_shape = (shape[1], shape[2]), return_sequences = False, activation = activation)))\n",
    "      else:\n",
    "          model.add(Bidirectional(LSTM(neurons_per_layer[0], input_shape = (shape[1], shape[2]), return_sequences = True, activation = activation)))\n",
    "          for neurons in neurons_per_layer[1:-1]:\n",
    "              model.add(Bidirectional(LSTM(neurons, return_sequences = True, activation = activation)))\n",
    "          model.add(Bidirectional(LSTM(neurons_per_layer[-1], return_sequences = False, activation = activation)))\n",
    "      model.add(Dense(1))\n",
    "\n",
    "    # Compile model\n",
    "    model.compile(loss = 'mean_squared_error', optimizer = opt)\n",
    "\n",
    "    return model"
   ]
  },
  {
   "cell_type": "markdown",
   "metadata": {
    "id": "bDIbsFAwm0Ie"
   },
   "source": [
    "##### Conv1D"
   ]
  },
  {
   "cell_type": "code",
   "execution_count": null,
   "metadata": {
    "id": "lubUeq57m3Yy"
   },
   "outputs": [],
   "source": [
    "def create_cnn(activation, optimizer, learning_rate, filter_layers, filters_per_layer, neuron_layers, neurons_per_layer, kernel_size, pool_size, dropout, shape):\n",
    "\n",
    "    # Layer hyperparameters and number of layers  \n",
    "    neurons_per_layer = [int(neurons_per_layer)]*int(neuron_layers)  \n",
    "    filters_per_layer = [int(filters_per_layer)]*int(filter_layers)  \n",
    "\n",
    "    # Optimizer\n",
    "    if optimizer == 'adam':\n",
    "      opt = keras.optimizers.Adam(lr = learning_rate)\n",
    "    elif optimizer == 'nadam':\n",
    "      opt = keras.optimizers.Nadam(lr = learning_rate)\n",
    "    elif optimizer == 'adadelta':\n",
    "      opt = keras.optimizers.Adadelta(lr = learning_rate)\n",
    "    elif optimizer == 'adagrad':\n",
    "      opt = keras.optimizers.Adagrad(lr = learning_rate)\n",
    "    elif optimizer == 'rmsprop':\n",
    "      opt = keras.optimizers.RMSprop(lr = learning_rate)\n",
    "\n",
    "    # Create an empty model\n",
    "    model = Sequential()\n",
    "\n",
    "    # Add layers\n",
    "    model.add(Conv1D(filters = filters_per_layer[0], input_shape = (shape[1],shape[2]), kernel_size = kernel_size, activation = activation))\n",
    "\n",
    "    for filters in filters_per_layer[1:]:\n",
    "        model.add(Conv1D(filters = filters, kernel_size = kernel_size, activation = activation))\n",
    "    model.add(Dropout(dropout))\n",
    "    model.add(MaxPooling1D(pool_size = pool_size))\n",
    "    model.add(Flatten())\n",
    "    for neurons in neurons_per_layer:\n",
    "        model.add(Dense(neurons, activation = activation))\n",
    "    model.add(Dense(1))\n",
    "\n",
    "    # Compile model\n",
    "    model.compile(loss='mean_squared_error', optimizer = optimizer)\n",
    "\n",
    "    return model"
   ]
  },
  {
   "cell_type": "markdown",
   "metadata": {
    "id": "alY6szSIzSbE"
   },
   "source": [
    "#### Grid Search"
   ]
  },
  {
   "cell_type": "markdown",
   "metadata": {
    "id": "x6dujK4-KgTG"
   },
   "source": [
    "##### GRU, RNN, LSTM, BI LSTM"
   ]
  },
  {
   "cell_type": "code",
   "execution_count": null,
   "metadata": {
    "colab": {
     "base_uri": "https://localhost:8080/",
     "height": 106
    },
    "executionInfo": {
     "elapsed": 356125,
     "status": "ok",
     "timestamp": 1590196007390,
     "user": {
      "displayName": "ROME Project",
      "photoUrl": "",
      "userId": "15433971874005411472"
     },
     "user_tz": -120
    },
    "id": "Hglg4I0l66fd",
    "outputId": "93666515-7b5a-4a6c-90b9-f85ae0cdba9a"
   },
   "outputs": [
    {
     "name": "stdout",
     "output_type": "stream",
     "text": [
      "Fitting 1 folds for each of 8 candidates, totalling 8 fits\n"
     ]
    },
    {
     "name": "stderr",
     "output_type": "stream",
     "text": [
      "[Parallel(n_jobs=-1)]: Using backend LokyBackend with 2 concurrent workers.\n",
      "[Parallel(n_jobs=-1)]: Done   8 out of   8 | elapsed:  5.9min finished\n"
     ]
    },
    {
     "name": "stdout",
     "output_type": "stream",
     "text": [
      "Best MSE:  172.14781082137594\n",
      "Params:  {'activation': 'elu', 'algorithm': 'gru', 'layers': 2, 'learning_rate': 0.0005000000000000001, 'neurons_per_layer': 24, 'optimizer': 'adam'}\n"
     ]
    }
   ],
   "source": [
    "# Hiperparámetros a optimizar. Se pueden seleccionar uno o varios algoritmos!\n",
    "grid = {'algorithm' : ['gru'], #['gru', 'rnn', 'lstm', 'bilstm'],\n",
    "            'activation' : ['elu'], #['elu', 'relu', 'selu']\n",
    "            'layers' : list(np.arange(1,5,1)), #min_layers, max_layers (no incluido), step_size\n",
    "            'neurons_per_layer' : list(np.arange(16, 28, 4)), #min_neurons, max_neurons (no incluido), step_size\n",
    "            'learning_rate' : list(np.exp(np.linspace(np.log(0.0005),np.log(0.005), 5))), #min_lr, max_lr (incluido), number_of_elements\n",
    "            'optimizer' : ['adam'], #['adam', 'nadam', 'adadelta', 'adagrad', 'rmsprop']\n",
    "            'batch_size' : [20],\n",
    "            'epochs' : [20]}\n",
    "\n",
    "\n",
    "\n",
    "\n",
    "\n",
    "\n",
    "x_train, y_train, x_test, y_test = prepare_data(task = '3d', back_steps = back_steps, horizon = horizon)\n",
    "\n",
    "# create model\n",
    "model = KerasRegressor(build_fn = create_model, shape = x_train.shape, verbose = 0)\n",
    "\n",
    "grid_model = GridSearchCV(estimator = model, param_grid = grid, verbose = 1, refit = False, n_jobs = -1, pre_dispatch = '2*n_jobs', scoring = 'neg_mean_squared_error',  return_train_score = True, \n",
    "                          cv = [(list(np.arange(0,x_train.shape[0],1)),list(np.arange(x_train.shape[0], x_train.shape[0]+x_test.shape[0],1)))])\n",
    "grid_result = grid_model.fit(np.concatenate((x_train, x_test)),np.concatenate((y_train, y_test)))\n",
    "\n",
    "# save results\n",
    "results = pd.read_excel('Results1.xlsx')\n",
    "for i in range(0,len(grid_model.cv_results_['mean_test_score'])):\n",
    "  results.loc[len(results)] = [grid_model.cv_results_['params'][i]['algorithm'], int(grid_model.cv_results_['params'][i]['layers']), int(grid_model.cv_results_['params'][i]['neurons_per_layer']), \n",
    "                              grid_model.cv_results_['params'][i]['activation'], grid_model.cv_results_['params'][i]['optimizer'], grid_model.cv_results_['params'][i]['learning_rate'], \n",
    "                              horizon, back_steps, grid_model.cv_results_['params'][i]['batch_size'],grid_model.cv_results_['params'][i]['epochs'], dataset, -grid_model.cv_results_['mean_train_score'][i], -grid_model.cv_results_['mean_test_score'][i], grid_model.cv_results_['mean_fit_time'][i]]\n",
    "results.to_excel('Results1.xlsx', index = False)\n",
    "\n",
    "print('Best MSE: ', -grid_model.best_score_)\n",
    "print('Params: ', grid_model.best_params_)"
   ]
  },
  {
   "cell_type": "markdown",
   "metadata": {
    "id": "VgYYpP84mg_r"
   },
   "source": [
    "##### Conv1D"
   ]
  },
  {
   "cell_type": "code",
   "execution_count": null,
   "metadata": {
    "colab": {
     "base_uri": "https://localhost:8080/",
     "height": 122
    },
    "executionInfo": {
     "elapsed": 47819,
     "status": "ok",
     "timestamp": 1590793681590,
     "user": {
      "displayName": "ROME Project",
      "photoUrl": "",
      "userId": "15433971874005411472"
     },
     "user_tz": -120
    },
    "id": "GFUEiDspmpQO",
    "outputId": "ca4c6db8-e4df-4934-8953-a23e883e1772"
   },
   "outputs": [
    {
     "name": "stdout",
     "output_type": "stream",
     "text": [
      "Fitting 1 folds for each of 5 candidates, totalling 5 fits\n"
     ]
    },
    {
     "name": "stderr",
     "output_type": "stream",
     "text": [
      "[Parallel(n_jobs=-1)]: Using backend LokyBackend with 2 concurrent workers.\n",
      "[Parallel(n_jobs=-1)]: Done   5 out of   5 | elapsed:   45.5s finished\n"
     ]
    },
    {
     "name": "stdout",
     "output_type": "stream",
     "text": [
      "Best MSE:  253.96121603042695\n",
      "Params:  {'activation': 'relu', 'batch_size': 20, 'dropout': 0, 'epochs': 20, 'filter_layers': 1, 'filters_per_layer': 32, 'kernel_size': 3, 'learning_rate': 0.0028117066259517455, 'neuron_layers': 1, 'neurons_per_layer': 32, 'optimizer': 'adam', 'pool_size': 2}\n"
     ]
    }
   ],
   "source": [
    "# Hiperparámetros a optimizar. Se pueden seleccionar uno o varios algoritmos!\n",
    "grid = {'activation' : ['relu'], #['elu', 'relu', 'selu']\n",
    "        'kernel_size' : [1,2,3,4],\n",
    "        'pool_size' : [1,2],\n",
    "        'dropout': [0],\n",
    "        'neuron_layers' : list(np.arange(1,4,1)), #min_layers, max_layers (no incluido), step_size\n",
    "        'neurons_per_layer' : list(np.arange(16, 36, 4)), #min_neurons, max_neurons (no incluido), step_size\n",
    "        'filter_layers' : list(np.arange(1,4,1)), #min_layers, max_layers (no incluido), step_size\n",
    "        'filters_per_layer' : list(np.arange(16, 36, 4)), #min_neurons, max_neurons (no incluido), step_size\n",
    "        'learning_rate' : list(np.exp(np.linspace(np.log(0.0005),np.log(0.005), 5))), #min_lr, max_lr (incluido), number_of_elements\n",
    "        'optimizer' : ['adam'], #['adam', 'nadam', 'adadelta', 'adagrad', 'rmsprop']\n",
    "        'batch_size' : [20],\n",
    "        'epochs' : [20]}\n",
    "\n",
    "\n",
    "\n",
    "x_train, y_train, x_test, y_test = prepare_data(task = '3d', back_steps = back_steps, horizon = horizon)\n",
    "\n",
    "# create model\n",
    "model = KerasRegressor(build_fn = create_cnn, shape = x_train.shape, verbose = 0)\n",
    "\n",
    "grid_model = GridSearchCV(estimator = model, param_grid = grid, verbose = 1, refit = False, n_jobs = -1, pre_dispatch = '2*n_jobs', scoring = 'neg_mean_squared_error',  return_train_score = True, \n",
    "                          cv = [(list(np.arange(0,x_train.shape[0],1)),list(np.arange(x_train.shape[0], x_train.shape[0]+x_test.shape[0],1)))])\n",
    "grid_result = grid_model.fit(np.concatenate((x_train, x_test)),np.concatenate((y_train, y_test)))\n",
    "\n",
    "# los resultados se pueden sacar de grid_model.cv_results_\n",
    "\n",
    "print('Best MSE: ', -grid_model.best_score_)\n",
    "print('Params: ', grid_model.best_params_)\n"
   ]
  },
  {
   "cell_type": "markdown",
   "metadata": {
    "id": "K3uI9NiLclrz"
   },
   "source": [
    "##### MLP"
   ]
  },
  {
   "cell_type": "code",
   "execution_count": null,
   "metadata": {
    "colab": {
     "base_uri": "https://localhost:8080/",
     "height": 106
    },
    "executionInfo": {
     "elapsed": 138464,
     "status": "ok",
     "timestamp": 1590196146369,
     "user": {
      "displayName": "ROME Project",
      "photoUrl": "",
      "userId": "15433971874005411472"
     },
     "user_tz": -120
    },
    "id": "G0K3OqgMVASd",
    "outputId": "6b6b626b-4797-437a-ae00-99bd3f6539dd"
   },
   "outputs": [
    {
     "name": "stdout",
     "output_type": "stream",
     "text": [
      "Fitting 1 folds for each of 24 candidates, totalling 24 fits\n"
     ]
    },
    {
     "name": "stderr",
     "output_type": "stream",
     "text": [
      "[Parallel(n_jobs=-1)]: Using backend LokyBackend with 2 concurrent workers.\n",
      "[Parallel(n_jobs=-1)]: Done  24 out of  24 | elapsed:  2.3min finished\n"
     ]
    },
    {
     "name": "stdout",
     "output_type": "stream",
     "text": [
      "Best MSE:  235.1434952721103\n",
      "Params:  {'activation': 'elu', 'algorithm': 'mlp', 'layers': 2, 'learning_rate': 0.005, 'neurons_per_layer': 16, 'optimizer': 'adam'}\n"
     ]
    }
   ],
   "source": [
    "# Hiperparámetros a optimizar. Se pueden seleccionar uno o varios algoritmos!\n",
    "grid = {'algorithm' : ['mlp'],\n",
    "            'activation' : ['elu'], #['elu', 'relu', 'selu', ]\n",
    "            'layers' : list(np.arange(1,5,1)), #min_layers, max_layers (no incluido), step_size\n",
    "            'neurons_per_layer' : list(np.arange(16, 28, 4)), #min_neurons, max_neurons (no incluido), step_size\n",
    "            'learning_rate' : list(np.exp(np.linspace(np.log(0.0005),np.log(0.005), 5))), #min_lr, max_lr (incluido), number_of_elements\n",
    "            'optimizer' : ['adam'], #['adam', 'nadam', 'adadelta', 'adagrad', 'rmsprop']\n",
    "            'batch_size' : [20],\n",
    "            'epochs' : [20]}\n",
    "\n",
    "\n",
    "\n",
    "\n",
    "\n",
    "x_train, y_train, x_test, y_test = prepare_data(task = '2d', back_steps = back_steps, horizon = horizon)\n",
    "\n",
    "# create model\n",
    "model = KerasRegressor(build_fn = create_model, shape = x_train.shape, verbose = 0)\n",
    "\n",
    "grid_model = GridSearchCV(estimator = model, param_grid = grid, verbose = 1, refit = False, n_jobs = -1, pre_dispatch = '2*n_jobs', scoring = 'neg_mean_squared_error', return_train_score = True,\n",
    "                          cv = [(list(np.arange(0,x_train.shape[0],1)),list(np.arange(x_train.shape[0], x_train.shape[0]+x_test.shape[0],1)))])\n",
    "grid_result = grid_model.fit(np.concatenate((x_train, x_test)),np.concatenate((y_train, y_test)))\n",
    "\n",
    "# save results\n",
    "results = pd.read_excel('Results1.xlsx')\n",
    "for i in range(0,len(grid_model.cv_results_['mean_test_score'])):\n",
    "  results.loc[len(results)] = [grid_model.cv_results_['params'][i]['algorithm'], int(grid_model.cv_results_['params'][i]['layers']), int(grid_model.cv_results_['params'][i]['neurons_per_layer']), \n",
    "                              grid_model.cv_results_['params'][i]['activation'], grid_model.cv_results_['params'][i]['optimizer'], grid_model.cv_results_['params'][i]['learning_rate'], \n",
    "                              horizon, back_steps, grid_model.cv_results_['params'][i]['batch_size'],grid_model.cv_results_['params'][i]['epochs'], dataset, -grid_model.cv_results_['mean_train_score'][i], -grid_model.cv_results_['mean_test_score'][i], grid_model.cv_results_['mean_fit_time'][i]]\n",
    "results.to_excel('Results1.xlsx', index = False)\n",
    "\n",
    "print('Best MSE: ', -grid_model.best_score_)\n",
    "print('Params: ', grid_model.best_params_)"
   ]
  },
  {
   "cell_type": "markdown",
   "metadata": {
    "id": "f4NNzp5VDRLF"
   },
   "source": [
    "#### Random Search"
   ]
  },
  {
   "cell_type": "markdown",
   "metadata": {
    "id": "eOkl6CAiDars"
   },
   "source": [
    "##### GRU, RNN, LSTM, BI LSTM"
   ]
  },
  {
   "cell_type": "code",
   "execution_count": null,
   "metadata": {
    "colab": {
     "base_uri": "https://localhost:8080/",
     "height": 106
    },
    "executionInfo": {
     "elapsed": 326771,
     "status": "ok",
     "timestamp": 1590197382424,
     "user": {
      "displayName": "ROME Project",
      "photoUrl": "",
      "userId": "15433971874005411472"
     },
     "user_tz": -120
    },
    "id": "aW8UgkCIDag-",
    "outputId": "307ccdfc-770e-497b-b21c-e5e81306c82a"
   },
   "outputs": [
    {
     "name": "stdout",
     "output_type": "stream",
     "text": [
      "Fitting 1 folds for each of 4 candidates, totalling 4 fits\n"
     ]
    },
    {
     "name": "stderr",
     "output_type": "stream",
     "text": [
      "[Parallel(n_jobs=-1)]: Using backend LokyBackend with 2 concurrent workers.\n",
      "[Parallel(n_jobs=-1)]: Done   4 out of   4 | elapsed:  5.4min finished\n"
     ]
    },
    {
     "name": "stdout",
     "output_type": "stream",
     "text": [
      "Best MSE:  186.2228491198188\n",
      "Params:  {'optimizer': 'adam', 'neurons_per_layer': 22, 'learning_rate': 0.0020474575311902133, 'layers': 1, 'algorithm': 'gru', 'activation': 'elu'}\n"
     ]
    }
   ],
   "source": [
    "iterations = 20\n",
    "\n",
    "# Hiperparámetros a optimizar. Se pueden seleccionar uno o varios algoritmos!\n",
    "grid = {'algorithm' : ['gru'], #['gru', 'rnn', 'lstm', 'bilstm'],\n",
    "            'activation' : ['elu'], #['elu', 'relu', 'selu', ]\n",
    "            'layers' : list(np.arange(1,6,1)), #min_layers, max_layers (no incluido), step_size\n",
    "            'neurons_per_layer' : list(np.arange(16, 34, 2)), #min_neurons, max_neurons (no incluido), step_size\n",
    "            'learning_rate' : list(np.exp(np.linspace(np.log(0.0005),np.log(0.005), 50))), #min_lr, max_lr (incluido), number_of_elements\n",
    "            'optimizer' : ['adam'], #['adam', 'nadam', 'adadelta', 'adagrad', 'rmsprop']\n",
    "            'batch_size' : [20],\n",
    "            'epochs' : [20]}\n",
    "\n",
    "\n",
    "\n",
    "\n",
    "\n",
    "x_train, y_train, x_test, y_test = prepare_data(task = '3d', back_steps = back_steps, horizon = horizon)\n",
    "\n",
    "# create model\n",
    "model = KerasRegressor(build_fn = create_model, shape = x_train.shape, verbose = 0)\n",
    "\n",
    "grid_model = RandomizedSearchCV(estimator = model, param_distributions = grid, n_iter = iterations, verbose = 1, refit = False, n_jobs = -1, pre_dispatch = '2*n_jobs', scoring = 'neg_mean_squared_error',  \n",
    "                                return_train_score = True, cv = [(list(np.arange(0,x_train.shape[0],1)),list(np.arange(x_train.shape[0], x_train.shape[0]+x_test.shape[0],1)))])\n",
    "grid_result = grid_model.fit(np.concatenate((x_train, x_test)),np.concatenate((y_train, y_test)))\n",
    "\n",
    "# save results\n",
    "results = pd.read_excel('Results1.xlsx')\n",
    "for i in range(0,len(grid_model.cv_results_['mean_test_score'])):\n",
    "  results.loc[len(results)] = [grid_model.cv_results_['params'][i]['algorithm'], int(grid_model.cv_results_['params'][i]['layers']), int(grid_model.cv_results_['params'][i]['neurons_per_layer']), \n",
    "                              grid_model.cv_results_['params'][i]['activation'], grid_model.cv_results_['params'][i]['optimizer'], grid_model.cv_results_['params'][i]['learning_rate'], \n",
    "                              horizon, back_steps, grid_model.cv_results_['params'][i]['batch_size'],grid_model.cv_results_['params'][i]['epochs'], dataset, -grid_model.cv_results_['mean_train_score'][i], -grid_model.cv_results_['mean_test_score'][i], grid_model.cv_results_['mean_fit_time'][i]]\n",
    "results.to_excel('Results1.xlsx', index = False)\n",
    "\n",
    "print('Best MSE: ', -grid_model.best_score_)\n",
    "print('Params: ', grid_model.best_params_)"
   ]
  },
  {
   "cell_type": "markdown",
   "metadata": {
    "id": "B0ePqCeLs_9j"
   },
   "source": [
    "##### Conv1D"
   ]
  },
  {
   "cell_type": "code",
   "execution_count": null,
   "metadata": {
    "colab": {
     "base_uri": "https://localhost:8080/",
     "height": 122
    },
    "executionInfo": {
     "elapsed": 33,
     "status": "ok",
     "timestamp": 1590794898112,
     "user": {
      "displayName": "ROME Project",
      "photoUrl": "",
      "userId": "15433971874005411472"
     },
     "user_tz": -120
    },
    "id": "qzm6VpVItC4A",
    "outputId": "4f3d1b40-4519-4075-c6f6-45739029bdfc"
   },
   "outputs": [
    {
     "name": "stdout",
     "output_type": "stream",
     "text": [
      "Fitting 1 folds for each of 4 candidates, totalling 4 fits\n"
     ]
    },
    {
     "name": "stderr",
     "output_type": "stream",
     "text": [
      "[Parallel(n_jobs=-1)]: Using backend LokyBackend with 2 concurrent workers.\n",
      "[Parallel(n_jobs=-1)]: Done   4 out of   4 | elapsed:   40.5s finished\n"
     ]
    },
    {
     "name": "stdout",
     "output_type": "stream",
     "text": [
      "Best MSE:  229.97884839444086\n",
      "Params:  {'pool_size': 1, 'optimizer': 'adam', 'neurons_per_layer': 32, 'neuron_layers': 2, 'learning_rate': 0.0010772173450159421, 'kernel_size': 1, 'filters_per_layer': 16, 'filter_layers': 2, 'epochs': 20, 'dropout': 0, 'batch_size': 20, 'activation': 'elu'}\n"
     ]
    }
   ],
   "source": [
    "iterations = 20\n",
    "\n",
    "# Hiperparámetros a optimizar. Se pueden seleccionar uno o varios algoritmos!\n",
    "grid = {'activation' : ['relu', 'elu', 'selu'], #['elu', 'relu', 'selu']\n",
    "        'kernel_size' : [1,2,3,4],\n",
    "        'pool_size' : [1,2],\n",
    "        'dropout': [0],\n",
    "        'neuron_layers' : list(np.arange(1,4,1)), #min_layers, max_layers (no incluido), step_size\n",
    "        'neurons_per_layer' : list(np.arange(16, 36, 4)), #min_neurons, max_neurons (no incluido), step_size\n",
    "        'filter_layers' : list(np.arange(1,4,1)), #min_layers, max_layers (no incluido), step_size\n",
    "        'filters_per_layer' : list(np.arange(16, 36, 4)), #min_neurons, max_neurons (no incluido), step_size\n",
    "        'learning_rate' : list(np.exp(np.linspace(np.log(0.0005),np.log(0.005), 100))), #min_lr, max_lr (incluido), number_of_elements\n",
    "        'optimizer' : ['adam'], #['adam', 'nadam', 'adadelta', 'adagrad', 'rmsprop']\n",
    "        'batch_size' : [20],\n",
    "        'epochs' : [20]}\n",
    "\n",
    "\n",
    "\n",
    "x_train, y_train, x_test, y_test = prepare_data(task = '3d', back_steps = back_steps, horizon = horizon)\n",
    "\n",
    "# create model\n",
    "model = KerasRegressor(build_fn = create_cnn, shape = x_train.shape, verbose = 0)\n",
    "\n",
    "grid_model = RandomizedSearchCV(estimator = model, param_distributions = grid, n_iter = iterations, verbose = 1, refit = False, n_jobs = -1, pre_dispatch = '2*n_jobs', scoring = 'neg_mean_squared_error',  \n",
    "                                return_train_score = True, cv = [(list(np.arange(0,x_train.shape[0],1)),list(np.arange(x_train.shape[0], x_train.shape[0]+x_test.shape[0],1)))])\n",
    "grid_result = grid_model.fit(np.concatenate((x_train, x_test)),np.concatenate((y_train, y_test)))\n",
    "\n",
    "# los resultados se pueden sacar de grid_model.cv_results_\n",
    "\n",
    "print('Best MSE: ', -grid_model.best_score_)\n",
    "print('Params: ', grid_model.best_params_)"
   ]
  },
  {
   "cell_type": "markdown",
   "metadata": {
    "id": "gU2dyYChDXyI"
   },
   "source": [
    "##### MLP"
   ]
  },
  {
   "cell_type": "code",
   "execution_count": null,
   "metadata": {
    "colab": {
     "base_uri": "https://localhost:8080/",
     "height": 106
    },
    "executionInfo": {
     "elapsed": 74728,
     "status": "ok",
     "timestamp": 1590196330362,
     "user": {
      "displayName": "ROME Project",
      "photoUrl": "",
      "userId": "15433971874005411472"
     },
     "user_tz": -120
    },
    "id": "XaT--qwsDbNL",
    "outputId": "f95eab12-b108-472c-daee-f046cae958d9"
   },
   "outputs": [
    {
     "name": "stdout",
     "output_type": "stream",
     "text": [
      "Fitting 1 folds for each of 10 candidates, totalling 10 fits\n"
     ]
    },
    {
     "name": "stderr",
     "output_type": "stream",
     "text": [
      "[Parallel(n_jobs=-1)]: Using backend LokyBackend with 2 concurrent workers.\n",
      "[Parallel(n_jobs=-1)]: Done  10 out of  10 | elapsed:  1.2min finished\n"
     ]
    },
    {
     "name": "stdout",
     "output_type": "stream",
     "text": [
      "Best MSE:  229.25732460916112\n",
      "Params:  {'optimizer': 'adam', 'neurons_per_layer': 24, 'learning_rate': 0.0006628556827950549, 'layers': 5, 'algorithm': 'mlp', 'activation': 'elu'}\n"
     ]
    }
   ],
   "source": [
    "iterations = 100\n",
    "\n",
    "# Hiperparámetros a optimizar. Se pueden seleccionar uno o varios algoritmos!\n",
    "grid = {'algorithm' : ['mlp'],\n",
    "            'activation' : ['elu'], #['elu', 'relu', 'selu', ]\n",
    "            'layers' : list(np.arange(1,6,1)), #min_layers, max_layers (no incluido), step_size\n",
    "            'neurons_per_layer' : list(np.arange(16, 34, 2)), #min_neurons, max_neurons (no incluido), step_size\n",
    "            'learning_rate' : list(np.exp(np.linspace(np.log(0.0005),np.log(0.005), 50))), #min_lr, max_lr (incluido), number_of_elements\n",
    "            'optimizer' : ['adam'], #['adam', 'nadam', 'adadelta', 'adagrad', 'rmsprop']\n",
    "            'batch_size' : [20],\n",
    "            'epochs' : [20]}\n",
    "\n",
    "\n",
    "\n",
    "\n",
    "x_train, y_train, x_test, y_test = prepare_data(task = '2d', back_steps = back_steps, horizon = horizon)\n",
    "\n",
    "# create model\n",
    "model = KerasRegressor(build_fn = create_model, shape = x_train.shape, verbose = 0)\n",
    "\n",
    "grid_model = RandomizedSearchCV(estimator = model, param_distributions = grid, n_iter = iterations, verbose = 1, refit = False, n_jobs = -1, pre_dispatch = '2*n_jobs', scoring = 'neg_mean_squared_error', \n",
    "                                return_train_score = True, cv = [(list(np.arange(0,x_train.shape[0],1)),list(np.arange(x_train.shape[0], x_train.shape[0]+x_test.shape[0],1)))])\n",
    "grid_result = grid_model.fit(np.concatenate((x_train, x_test)),np.concatenate((y_train, y_test)))\n",
    "\n",
    "# save results\n",
    "results = pd.read_excel('Results1.xlsx')\n",
    "for i in range(0,len(grid_model.cv_results_['mean_test_score'])):\n",
    "  results.loc[len(results)] = [grid_model.cv_results_['params'][i]['algorithm'], int(grid_model.cv_results_['params'][i]['layers']), int(grid_model.cv_results_['params'][i]['neurons_per_layer']), \n",
    "                              grid_model.cv_results_['params'][i]['activation'], grid_model.cv_results_['params'][i]['optimizer'], grid_model.cv_results_['params'][i]['learning_rate'], \n",
    "                              horizon, back_steps, grid_model.cv_results_['params'][i]['batch_size'],grid_model.cv_results_['params'][i]['epochs'], dataset, -grid_model.cv_results_['mean_train_score'][i], -grid_model.cv_results_['mean_test_score'][i], grid_model.cv_results_['mean_fit_time'][i]]\n",
    "results.to_excel('Results1.xlsx', index = False)\n",
    "\n",
    "print('Best MSE: ', -grid_model.best_score_)\n",
    "print('Params: ', grid_model.best_params_)"
   ]
  },
  {
   "cell_type": "markdown",
   "metadata": {
    "id": "ICcuPXc5gzU6"
   },
   "source": [
    "#### Bayesian Optimization"
   ]
  },
  {
   "cell_type": "markdown",
   "metadata": {
    "id": "ZJxk5MEDKn7I"
   },
   "source": [
    "##### MLP, GRU, RNN, LSTM, BI LSTM"
   ]
  },
  {
   "cell_type": "code",
   "execution_count": null,
   "metadata": {
    "colab": {
     "base_uri": "https://localhost:8080/",
     "height": 67
    },
    "executionInfo": {
     "elapsed": 78910,
     "status": "ok",
     "timestamp": 1590430548983,
     "user": {
      "displayName": "ROME Project",
      "photoUrl": "",
      "userId": "15433971874005411472"
     },
     "user_tz": -120
    },
    "id": "XTpc5pxaDcOt",
    "outputId": "52eb4227-c147-4302-e6d7-0ed0d6f12162"
   },
   "outputs": [
    {
     "name": "stdout",
     "output_type": "stream",
     "text": [
      "100%|██████████| 5/5 [01:18<00:00, 15.64s/it, best loss: 194.28315121675038]\n",
      "\n",
      " {'activation': 1, 'algorithm': 1, 'batch_size': 0, 'epochs': 0, 'layers': 1.0, 'learning_rate': 0.0016285422992886756, 'neurons_per_layer': 8.0, 'optimizer': 0}\n"
     ]
    }
   ],
   "source": [
    "from hyperopt import hp, fmin, tpe, space_eval, Trials\n",
    "\n",
    "max_evals = 100\n",
    "\n",
    "# Hiperparámetros a optimizar. Se pueden seleccionar uno o varios algoritmos!\n",
    "space = {'algorithm' : hp.choice('algorithm', ['mlp', 'gru', 'rnn', 'lstm', 'bilstm']), #['mlp', 'gru', 'rnn', 'lstm', 'bilstm'],\n",
    "            'activation' : hp.choice('activation',['elu', 'selu']), #['elu', 'relu', 'selu', ]\n",
    "            'layers' : hp.quniform('layers', 1, 5, 1), #min_layers, max_layers, step_size\n",
    "            'neurons_per_layer' : hp.quniform('neurons_per_layer', 16, 64, 2), #min_neurons, max_neurons, step_size\n",
    "            'learning_rate' : hp.loguniform('learning_rate', np.log(0.00005), np.log(0.005)), #min_lr, max_lr\n",
    "            'optimizer' : hp.choice('optimizer',['adam']), #['adam', 'nadam', 'adadelta', 'adagrad', 'rmsprop']\n",
    "            'batch_size' : hp.choice('batch_size',[20]),\n",
    "            'epochs' : hp.choice('epochs',[20])}\n",
    "         \n",
    "# Se puede incluir en las iteraciones el dropout\n",
    "\n",
    "def objective(params):\n",
    "    try:\n",
    "      set_seed()\n",
    "\n",
    "      # Prepare data\n",
    "      if params['algorithm'] == 'mlp':\n",
    "        x_train, y_train, x_test, y_test = prepare_data(task = '2d', back_steps = back_steps, horizon = horizon)\n",
    "      else:\n",
    "        x_train, y_train, x_test, y_test = prepare_data(task = '3d', back_steps = back_steps, horizon = horizon)\n",
    "\n",
    "      model = create_model(algorithm = params['algorithm'], layers = int(params['layers']), neurons_per_layer = int(params['neurons_per_layer']),\n",
    "                           activation = params['activation'], optimizer = params['optimizer'], learning_rate = params['learning_rate'], shape = x_train.shape)\n",
    "\n",
    "      # Fit model on the dataset\n",
    "      start_time = time.time()\n",
    "      history = model.fit(x_train, y_train, epochs = int(params['epochs']), batch_size = int(params['batch_size']), validation_data = None, verbose = 0, shuffle = False)\n",
    "      training_time = time.time() - start_time\n",
    "\n",
    "      # Evaluate model\n",
    "      y_pred = model.predict(x_test)\n",
    "      mse = sklearn.metrics.mean_squared_error(y_test, y_pred)\n",
    "\n",
    "      results = pd.read_excel('Results.xlsx')\n",
    "      results.loc[len(results)] = [params['algorithm'], int(params['layers']), int(params['neurons_per_layer']), params['activation'], \n",
    "                                   params['optimizer'], params['learning_rate'], horizon, back_steps, int(params['batch_size']), int(params['epochs']), dataset, history.history['loss'][-1], mse, training_time]\n",
    "      results.to_excel('Results.xlsx', index = False)\n",
    "\n",
    "    except:\n",
    "      mse = 1000000.0     \n",
    "      results = pd.read_excel('Results.xlsx')\n",
    "      results.loc[len(results)] = [params['algorithm'], int(params['layers']), int(params['neurons_per_layer']), params['activation'], \n",
    "                                   params['optimizer'], params['learning_rate'], horizon, back_steps, int(params['batch_size']), int(params['epochs']), dataset, 'error', 'error', 'error']\n",
    "      results.to_excel('Results.xlsx', index = False)\n",
    "\n",
    "    return mse     #Minimize\n",
    "\n",
    "trials = Trials()\n",
    "best = fmin(fn = objective, space = space, max_evals = max_evals, algo = tpe.suggest, trials = trials)\n",
    "print('\\n', best)"
   ]
  },
  {
   "cell_type": "code",
   "execution_count": null,
   "metadata": {
    "colab": {
     "base_uri": "https://localhost:8080/",
     "height": 68
    },
    "executionInfo": {
     "elapsed": 48945,
     "status": "ok",
     "timestamp": 1592152808115,
     "user": {
      "displayName": "ROME Project",
      "photoUrl": "",
      "userId": "15433971874005411472"
     },
     "user_tz": -120
    },
    "id": "whJ7tLbYsvmb",
    "outputId": "4c20cf72-4d2c-4030-d668-20539fc18735"
   },
   "outputs": [
    {
     "name": "stdout",
     "output_type": "stream",
     "text": [
      "100%|██████████| 5/5 [00:47<00:00,  9.57s/it, best loss: 247.19572752773777]\n",
      "\n",
      " {'activation': 0, 'algorithm': 0, 'batch_size': 0, 'epochs': 0, 'layers': 3.0, 'learning_rate': 0.0002205873175762452, 'neurons_per_layer': 26.0, 'optimizer': 0}\n"
     ]
    }
   ],
   "source": [
    "from hyperopt import hp, fmin, tpe, space_eval, Trials\n",
    "\n",
    "max_evals = 5\n",
    "\n",
    "# Hiperparámetros a optimizar. Se pueden seleccionar uno o varios algoritmos!\n",
    "space = {'algorithm' : hp.choice('algorithm', ['mlp']), #['mlp', 'gru', 'rnn', 'lstm', 'bilstm'],\n",
    "            'activation' : hp.choice('activation',['elu', 'selu']), #['elu', 'relu', 'selu', ]\n",
    "            'layers' : hp.quniform('layers', 1, 5, 1), #min_layers, max_layers, step_size\n",
    "            'neurons_per_layer' : hp.quniform('neurons_per_layer', 16, 64, 2), #min_neurons, max_neurons, step_size\n",
    "            'learning_rate' : hp.loguniform('learning_rate', np.log(0.00005), np.log(0.005)), #min_lr, max_lr\n",
    "            'optimizer' : hp.choice('optimizer',['adam']), #['adam', 'nadam', 'adadelta', 'adagrad', 'rmsprop']\n",
    "            'batch_size' : hp.choice('batch_size',[20]),\n",
    "            'epochs' : hp.choice('epochs',[20])}\n",
    "         \n",
    "# Se puede incluir en las iteraciones el dropout\n",
    "\n",
    "def objective(params):\n",
    "    try:\n",
    "      set_seed()\n",
    "\n",
    "      # Prepare data\n",
    "      if params['algorithm'] == 'mlp':\n",
    "        x_train, y_train, x_test, y_test = prepare_data(task = '2d', back_steps = back_steps, horizon = horizon)\n",
    "      else:\n",
    "        x_train, y_train, x_test, y_test = prepare_data(task = '3d', back_steps = back_steps, horizon = horizon)\n",
    "\n",
    "      model = create_model(algorithm = params['algorithm'], layers = int(params['layers']), neurons_per_layer = int(params['neurons_per_layer']),\n",
    "                           activation = params['activation'], optimizer = params['optimizer'], learning_rate = params['learning_rate'], shape = x_train.shape)\n",
    "\n",
    "      # Fit model on the dataset\n",
    "      start_time = time.time()\n",
    "      history = model.fit(x_train, y_train, epochs = int(params['epochs']), batch_size = int(params['batch_size']), validation_data = None, verbose = 0, shuffle = False)\n",
    "      training_time = time.time() - start_time\n",
    "\n",
    "      # Evaluate model\n",
    "      y_pred = model.predict(x_test)\n",
    "      mse = sklearn.metrics.mean_squared_error(y_test, y_pred)\n",
    "\n",
    "      results = pd.read_excel('Results.xlsx')\n",
    "      results.loc[len(results)] = [params['algorithm'], int(params['layers']), int(params['neurons_per_layer']), params['activation'], \n",
    "                                   params['optimizer'], params['learning_rate'], horizon, back_steps, int(params['batch_size']), int(params['epochs']), dataset, history.history['loss'][-1], mse, training_time]\n",
    "      results.to_excel('Results.xlsx', index = False)\n",
    "\n",
    "    except:\n",
    "      mse = 1000000.0     \n",
    "      results = pd.read_excel('Results.xlsx')\n",
    "      results.loc[len(results)] = [params['algorithm'], int(params['layers']), int(params['neurons_per_layer']), params['activation'], \n",
    "                                   params['optimizer'], params['learning_rate'], horizon, back_steps, int(params['batch_size']), int(params['epochs']), dataset, 'error', 'error', 'error']\n",
    "      results.to_excel('Results.xlsx', index = False)\n",
    "\n",
    "    return mse     #Minimize\n",
    "\n",
    "trials = Trials()\n",
    "best = fmin(fn = objective, space = space, max_evals = max_evals, algo = tpe.suggest, trials = trials)\n",
    "print('\\n', best)"
   ]
  },
  {
   "cell_type": "markdown",
   "metadata": {
    "id": "iO62C-PqxSlY"
   },
   "source": [
    "##### Conv1D"
   ]
  },
  {
   "cell_type": "code",
   "execution_count": null,
   "metadata": {
    "colab": {
     "base_uri": "https://localhost:8080/",
     "height": 258
    },
    "executionInfo": {
     "elapsed": 56592,
     "status": "ok",
     "timestamp": 1594674466389,
     "user": {
      "displayName": "ROME Project",
      "photoUrl": "",
      "userId": "15433971874005411472"
     },
     "user_tz": -120
    },
    "id": "jjNYw4SPxWJm",
    "outputId": "c5fee473-afc4-4029-91b7-59e10f9ebad7"
   },
   "outputs": [
    {
     "name": "stdout",
     "output_type": "stream",
     "text": [
      "260.5823332790841\n",
      "{'activation': 'elu', 'batch_size': 20, 'dropout': 0, 'epochs': 20, 'filter_layers': 1.0, 'filters_per_layer': 18.0, 'kernel_size': 2, 'learning_rate': 0.0008293693930353605, 'neuron_layers': 2.0, 'neurons_per_layer': 20.0, 'optimizer': 'adam', 'pool_size': 2}\n",
      "289.97567020812755\n",
      "{'activation': 'relu', 'batch_size': 20, 'dropout': 0, 'epochs': 20, 'filter_layers': 2.0, 'filters_per_layer': 16.0, 'kernel_size': 1, 'learning_rate': 0.0003036735905865056, 'neuron_layers': 1.0, 'neurons_per_layer': 18.0, 'optimizer': 'adam', 'pool_size': 1}\n",
      "252.1951413849477\n",
      "{'activation': 'elu', 'batch_size': 20, 'dropout': 0, 'epochs': 20, 'filter_layers': 1.0, 'filters_per_layer': 18.0, 'kernel_size': 3, 'learning_rate': 0.0016795474791795142, 'neuron_layers': 2.0, 'neurons_per_layer': 20.0, 'optimizer': 'adam', 'pool_size': 1}\n",
      "233.1937728157367\n",
      "{'activation': 'relu', 'batch_size': 20, 'dropout': 0, 'epochs': 20, 'filter_layers': 1.0, 'filters_per_layer': 18.0, 'kernel_size': 3, 'learning_rate': 0.0044573939156342425, 'neuron_layers': 2.0, 'neurons_per_layer': 24.0, 'optimizer': 'adam', 'pool_size': 1}\n",
      "226.02078238935746\n",
      "{'activation': 'elu', 'batch_size': 20, 'dropout': 0, 'epochs': 20, 'filter_layers': 1.0, 'filters_per_layer': 20.0, 'kernel_size': 3, 'learning_rate': 0.0015534842272945867, 'neuron_layers': 1.0, 'neurons_per_layer': 18.0, 'optimizer': 'adam', 'pool_size': 1}\n",
      "100%|██████████| 5/5 [00:55<00:00, 11.19s/it, best loss: 226.02078238935746]\n",
      "\n",
      " {'activation': 1, 'batch_size': 0, 'dropout': 0, 'epochs': 0, 'filter_layers': 1.0, 'filters_per_layer': 20.0, 'kernel_size': 2, 'learning_rate': 0.0015534842272945867, 'neuron_layers': 1.0, 'neurons_per_layer': 18.0, 'optimizer': 0, 'pool_size': 0}\n"
     ]
    }
   ],
   "source": [
    "from hyperopt import hp, fmin, tpe, space_eval, Trials\n",
    "\n",
    "max_evals = 100\n",
    "\n",
    "# Hiperparámetros a optimizar. Se pueden seleccionar uno o varios algoritmos!\n",
    "space = {'activation' : hp.choice('activation', ['relu', 'elu', 'selu']), #['elu', 'relu', 'selu']\n",
    "          'kernel_size' : hp.choice('kernel_size', [1,2,3,4]),\n",
    "          'pool_size' : hp.choice('pool_size', [1,2]),\n",
    "          'dropout': hp.choice('dropout', [0]),\n",
    "          'neuron_layers' : hp.quniform('neuron_layers', 1, 5, 1), #min_layers, max_layers, step_size\n",
    "          'neurons_per_layer' : hp.quniform('neurons_per_layer', 16, 64, 2), #min_neurons, max_neurons, step_size\n",
    "          'filter_layers' : hp.quniform('filter_layers', 1, 5, 1), #min_layers, max_layers, step_size\n",
    "          'filters_per_layer' : hp.quniform('filters_per_layer', 16, 64, 2), #min_filters, max_filters, step_size\n",
    "          'learning_rate' : hp.loguniform('learning_rate', np.log(0.00005), np.log(0.005)), #min_lr, max_lr\n",
    "          'optimizer' : hp.choice('optimizer', ['adam']), #['adam', 'nadam', 'adadelta', 'adagrad', 'rmsprop']\n",
    "          'batch_size' : hp.choice('batch_size', [20]),\n",
    "          'epochs' : hp.choice('epochs', [20])}\n",
    "\n",
    "\n",
    "# Se puede incluir en las iteraciones el dropout\n",
    "\n",
    "def objective(params):\n",
    "    try:\n",
    "      set_seed()\n",
    "\n",
    "      # Prepare data\n",
    "      x_train, y_train, x_test, y_test = prepare_data(task = '3d', back_steps = back_steps, horizon = horizon)\n",
    "      \n",
    "      model = create_cnn(neuron_layers = int(params['neuron_layers']), neurons_per_layer = int(params['neurons_per_layer']), filter_layers = int(params['filter_layers']), filters_per_layer = int(params['filters_per_layer']),\n",
    "                          activation = params['activation'], optimizer = params['optimizer'], learning_rate = params['learning_rate'], kernel_size = params['kernel_size'], pool_size = params['pool_size'], \n",
    "                          dropout = params['dropout'], shape = x_train.shape)\n",
    "      \n",
    "      # Fit model on the dataset\n",
    "      start_time = time.time()\n",
    "      history = model.fit(x_train, y_train, epochs = int(params['epochs']), batch_size = int(params['batch_size']), validation_data = None, verbose = 0, shuffle = False)\n",
    "      training_time = time.time() - start_time\n",
    "\n",
    "      # Evaluate model\n",
    "      y_pred = model.predict(x_test)\n",
    "      mse = sklearn.metrics.mean_squared_error(y_test, y_pred)\n",
    "      print(mse)\n",
    "      print(params,'\\n')\n",
    "    except Exception as e:\n",
    "      #print(e)\n",
    "      mse = 1000000.0     \n",
    "\n",
    "    return mse     #Minimize\n",
    "\n",
    "trials = Trials()\n",
    "best = fmin(fn = objective, space = space, max_evals = max_evals, algo = tpe.suggest, trials = trials)\n",
    "print('\\n', best)"
   ]
  },
  {
   "cell_type": "markdown",
   "metadata": {
    "id": "fHKpRPcCQond"
   },
   "source": [
    "#### Genetic Algorithms"
   ]
  },
  {
   "cell_type": "markdown",
   "metadata": {
    "id": "R2JnO6tRQsHj"
   },
   "source": [
    "##### MLP, GRU, RNN, LSTM, BI LSTM"
   ]
  },
  {
   "cell_type": "code",
   "execution_count": null,
   "metadata": {
    "id": "Zy__9Iw3Qndw"
   },
   "outputs": [],
   "source": [
    "def fit_model(algorithm, activation, optimizer, learning_rate, layers, neurons_per_layer, batch_size, epochs):\n",
    "\n",
    "    set_seed()\n",
    "\n",
    "    if algorithm == 'mlp':\n",
    "      x_train, y_train, x_test, y_test = prepare_data(task = '2d', back_steps = back_steps, horizon = horizon)\n",
    "    else:\n",
    "      x_train, y_train, x_test, y_test = prepare_data(task = '3d', back_steps = back_steps, horizon = horizon)\n",
    "    \n",
    "    model = create_model(algorithm = algorithm, activation = activation, optimizer = optimizer, learning_rate = learning_rate, \n",
    "                         layers = layers, neurons_per_layer = neurons_per_layer, shape = x_train.shape)\n",
    "    \n",
    "    start_time = time.time()\n",
    "    history = model.fit(x_train, y_train, epochs = epochs, batch_size = batch_size, validation_data = None, verbose = 0, shuffle = False)\n",
    "    training_time = time.time() - start_time\n",
    "    \n",
    "    return model, history.history['loss'][-1], training_time\n",
    "\n",
    "\n",
    "class Network():\n",
    "    def __init__(self):\n",
    "        #self._epochs = np.random.randint(10, 20)\n",
    "        #self._batch_size = np.random.randint(10, 25)\n",
    "        self._epochs = epochs\n",
    "        self._batch_size = batch_size\n",
    "\n",
    "        self._algorithm = rn.choice(['mlp']) #['mlp', 'gru', 'rnn', 'lstm', 'bilstm']\n",
    "\n",
    "        self._layers = np.random.randint(1, 6)\n",
    "        self._neurons_per_layer = 10 + 2 * np.random.randint(1, 28)\n",
    "\n",
    "        self._activation = rn.choice(['elu']) #['relu', 'elu', 'selu']\n",
    "        self._optimizer = rn.choice(['adam']) #['adam', 'nadam', 'adadelta', 'adagrad', 'rmsprop']\n",
    "        self._learning_rate = np.exp(np.log(0.0005) + np.random.rand() * (np.log(0.005) - np.log(0.0005)))\n",
    "\n",
    "        self._mse = 1000000\n",
    "\n",
    "    def init_hyperparams(self):\n",
    "        hyperparams = {\n",
    "            'epochs': self._epochs,\n",
    "            'batch_size': self._batch_size,\n",
    "            'algorithm': self._algorithm,\n",
    "            'layers': self._layers,\n",
    "            'neurons_per_layer': self._neurons_per_layer,\n",
    "            'activation': self._activation,\n",
    "            'optimizer': self._optimizer,\n",
    "            'learning_rate': self._learning_rate\n",
    "        }\n",
    "        return hyperparams\n",
    "\n",
    "def init_networks(population):\n",
    "    return [Network() for _ in range(population)]\n",
    "def fitness_network(network):\n",
    "\n",
    "    hyperparams = network.init_hyperparams()\n",
    "    epochs = hyperparams['epochs']\n",
    "    batch_size = hyperparams['batch_size']\n",
    "    algorithm = hyperparams['algorithm']\n",
    "    layers = hyperparams['layers']\n",
    "    neurons_per_layer = hyperparams['neurons_per_layer']\n",
    "    activation = hyperparams['activation']\n",
    "    optimizer = hyperparams['optimizer']\n",
    "    learning_rate = hyperparams['learning_rate']\n",
    "    \n",
    "    try:\n",
    "        model, training_error, training_time = fit_model(algorithm = algorithm, activation = activation, optimizer = optimizer, learning_rate = learning_rate,\n",
    "                                                          layers = layers, neurons_per_layer = neurons_per_layer, batch_size = batch_size, epochs = epochs)\n",
    "        \n",
    "        if algorithm == 'mlp':\n",
    "          x_train, y_train, x_test, y_test = prepare_data(task = '2d', back_steps = back_steps, horizon = horizon)\n",
    "        else:\n",
    "          x_train, y_train, x_test, y_test = prepare_data(task = '3d', back_steps = back_steps, horizon = horizon)\n",
    "\n",
    "        y_pred = model.predict(x_test)\n",
    "        mse = sklearn.metrics.mean_squared_error(y_test, y_pred)\n",
    "\n",
    "        results = pd.read_excel('Results.xlsx')\n",
    "        results.loc[len(results)] = [algorithm, int(layers), int(neurons_per_layer), activation, optimizer, learning_rate, horizon, back_steps, batch_size, epochs, dataset,\n",
    "                                      training_error, mse, training_time]\n",
    "        results.to_excel('Results.xlsx', index = False)\n",
    "\n",
    "        network._mse = mse\n",
    "        print ('MSE: {}'.format(network._mse))\n",
    "\n",
    "    except:\n",
    "        network._mse = 1000000\n",
    "        results = pd.read_excel('Results.xlsx')\n",
    "        results.loc[len(results)] = [algorithm, int(layers), int(neurons_per_layer), activation, optimizer, learning_rate, horizon, back_steps, batch_size, epochs, dataset,\n",
    "                                      'error', 'error', 'error']\n",
    "        results.to_excel('Results.xlsx', index = False)\n",
    "        print ('Error')\n",
    "\n",
    "    return network\n",
    "\n",
    "def fitness(networks, parallelization = False):\n",
    "    if parallelization:\n",
    "      n_networks = Parallel(n_jobs=-1)(delayed(fitness_network)(network) for network in networks)\n",
    "      for network in n_networks:\n",
    "        print ('MSE: {}'.format(network._mse))\n",
    "    else:\n",
    "      n_networks = []\n",
    "      for network in networks:\n",
    "        n_networks.append(fitness_network(network))\n",
    "    return n_networks\n",
    "\n",
    "def selection(networks):\n",
    "    networks = sorted(networks, key=lambda network: network._mse, reverse=False)\n",
    "    networks = networks[:int(0.2 * len(networks)) + 2]\n",
    "\n",
    "    return networks\n",
    "\n",
    "def crossover(networks):\n",
    "    offspring = []\n",
    "    for _ in range(int((population - len(networks)) / 2)):\n",
    "        parent1 = rn.choice(networks)\n",
    "        parent2 = rn.choice(networks)\n",
    "        child1 = Network()\n",
    "        child2 = Network()\n",
    "\n",
    "        # Crossing over parent hyper-params\n",
    "        child1._epochs = parent2._epochs #max(int(3*parent1._epochs/4 + parent2._epochs/4),10)\n",
    "        child2._epochs = parent1._epochs #max(int(parent1._epochs/4 + 3*parent2._epochs/4),10)\n",
    "\n",
    "        child1._batch_size = parent2._batch_size #max(int(parent1._batch_size/4) + 3*parent2._batch_size/4),10)\n",
    "        child2._batch_size = parent1._batch_size #max(int(3*parent1._batch_size/4) + parent2._batch_size/4),10)\n",
    "\n",
    "        child1._algorithm = parent2._algorithm\n",
    "        child2._algorithm = parent1._algorithm        \n",
    "        \n",
    "        child1._layers = rn.choice([parent1._layers, parent2._layers]) #max(int(3*parent1._layers/4 + parent2._layers/4),1)\n",
    "        child2._layers = rn.choice([parent1._layers, parent2._layers]) #max(int(parent1._layers/4 + 3*parent2._layers/4),1)\n",
    "\n",
    "        child1._neurons_per_layer = max(int(parent1._neurons_per_layer/4 + 3*parent2._neurons_per_layer/4), 8)\n",
    "        child2._neurons_per_layer = max(int(3*parent1._neurons_per_layer/4 + parent2._neurons_per_layer/4), 8)\n",
    "\n",
    "        child1._activation = parent2._activation\n",
    "        child2._activation = parent1._activation\n",
    "\n",
    "        child1._optimizer = parent1._optimizer\n",
    "        child2._optimizer = parent2._optimizer\n",
    "\n",
    "        child1._learning_rate = parent1._learning_rate\n",
    "        child2._learning_rate = parent2._learning_rate\n",
    "\n",
    "        offspring.append(child1)\n",
    "        offspring.append(child2)\n",
    "\n",
    "    networks.extend(offspring)\n",
    "\n",
    "    return networks\n",
    "\n",
    "def mutate(networks):\n",
    "    for network in networks:\n",
    "        if np.random.uniform(0, 1) <= 0.1:\n",
    "            #network._epochs += 5 * np.random.randint(0,3)\n",
    "            #network._batch_size += 5 * np.random.randint(0,3)\n",
    "            network._layers += rn.choice([0,1,1,2])\n",
    "            network._neurons_per_layer += 2 * np.random.randint(0,9)\n",
    "            network._learning_rate *= (0.8 + 0.4 * np.random.rand())\n",
    "\n",
    "    return networks"
   ]
  },
  {
   "cell_type": "code",
   "execution_count": null,
   "metadata": {
    "colab": {
     "base_uri": "https://localhost:8080/",
     "height": 252
    },
    "executionInfo": {
     "elapsed": 60135,
     "status": "ok",
     "timestamp": 1590260909619,
     "user": {
      "displayName": "ROME Project",
      "photoUrl": "",
      "userId": "15433971874005411472"
     },
     "user_tz": -120
    },
    "id": "Y6wpaP2zRAvb",
    "outputId": "6e69549e-1388-47cf-e559-69dc92406a0d"
   },
   "outputs": [
    {
     "name": "stdout",
     "output_type": "stream",
     "text": [
      "\n",
      "Generation 1\n",
      "MSE: 269.6067938435947\n",
      "MSE: 302.2831096490641\n",
      "MSE: 287.64192564320956\n",
      "MSE: 306.18463288457247\n",
      "\n",
      "Generation 2\n",
      "MSE: 253.3927836480059\n",
      "MSE: 273.11546246736054\n",
      "MSE: 267.881961197771\n",
      "\n",
      "{'epochs': 20, 'batch_size': 20, 'algorithm': 'mlp', 'layers': 4, 'neurons_per_layer': 36, 'activation': 'elu', 'optimizer': 'adam', 'learning_rate': 0.0003477618146809623}\n",
      "Best MSE: 253.3927836480059\n"
     ]
    }
   ],
   "source": [
    "batch_size = 20\n",
    "epochs = 20\n",
    "threshold = 170\n",
    "generations = 4\n",
    "population = 20\n",
    "parallelization = True #Colab solo tiene 2 cores\n",
    "\n",
    "networks = init_networks(population)\n",
    "best_mse = np.inf\n",
    "best_network = None\n",
    "\n",
    "for gen in range(generations):\n",
    "    print ('\\nGeneration {}'.format(gen+1))\n",
    "    networks = fitness(networks, parallelization)\n",
    "    networks = selection(networks)\n",
    "    networks = crossover(networks)\n",
    "    networks = mutate(networks)\n",
    "\n",
    "    for network in networks:\n",
    "        if network._mse < best_mse:\n",
    "          best_network = network\n",
    "          best_mse = network._mse \n",
    "\n",
    "    if best_mse < threshold:\n",
    "        print ('\\nThreshold met')\n",
    "        break\n",
    "\n",
    "   \n",
    "print ('\\n' + str(best_network.init_hyperparams()))\n",
    "print ('Best MSE: {}'.format(best_network._mse))"
   ]
  }
 ],
 "metadata": {
  "colab": {
   "collapsed_sections": [
    "rI6sq4jhgvjf",
    "loOlIB6LIWBC",
    "Yskv-pBwB1c0",
    "sSeZv_SPJnKe",
    "Ks-sI8kaIf09",
    "OJGFfktJgvjs",
    "CK2RZnIX9vG2",
    "TQthHJEk95gl",
    "4J_epPvGLkVt",
    "bDIbsFAwm0Ie",
    "alY6szSIzSbE",
    "x6dujK4-KgTG",
    "VgYYpP84mg_r",
    "K3uI9NiLclrz",
    "f4NNzp5VDRLF",
    "eOkl6CAiDars",
    "B0ePqCeLs_9j",
    "gU2dyYChDXyI",
    "ICcuPXc5gzU6",
    "ZJxk5MEDKn7I",
    "iO62C-PqxSlY",
    "fHKpRPcCQond",
    "R2JnO6tRQsHj"
   ],
   "name": "Neural Networks.ipynb",
   "provenance": []
  },
  "kernelspec": {
   "display_name": "Python 3",
   "language": "python",
   "name": "python3"
  },
  "language_info": {
   "codemirror_mode": {
    "name": "ipython",
    "version": 3
   },
   "file_extension": ".py",
   "mimetype": "text/x-python",
   "name": "python",
   "nbconvert_exporter": "python",
   "pygments_lexer": "ipython3",
   "version": "3.8.5"
  },
  "varInspector": {
   "cols": {
    "lenName": 16,
    "lenType": 16,
    "lenVar": 40
   },
   "kernels_config": {
    "python": {
     "delete_cmd_postfix": "",
     "delete_cmd_prefix": "del ",
     "library": "var_list.py",
     "varRefreshCmd": "print(var_dic_list())"
    },
    "r": {
     "delete_cmd_postfix": ") ",
     "delete_cmd_prefix": "rm(",
     "library": "var_list.r",
     "varRefreshCmd": "cat(var_dic_list()) "
    }
   },
   "types_to_exclude": [
    "module",
    "function",
    "builtin_function_or_method",
    "instance",
    "_Feature"
   ],
   "window_display": false
  }
 },
 "nbformat": 4,
 "nbformat_minor": 1
}
